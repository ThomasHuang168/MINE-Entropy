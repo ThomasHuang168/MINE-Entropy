{
 "cells": [
  {
   "cell_type": "markdown",
   "metadata": {},
   "source": [
    "# Import Python scripts"
   ]
  },
  {
   "cell_type": "code",
   "execution_count": 1,
   "metadata": {},
   "outputs": [],
   "source": [
    "import sys\n",
    "sys.path.append('../')\n",
    "\n",
    "import MMI\n",
    "from MMI import settings"
   ]
  },
  {
   "cell_type": "code",
   "execution_count": 2,
   "metadata": {},
   "outputs": [],
   "source": [
    "import ipywidgets as widgets\n",
    "from IPython.display import display\n",
    "import matplotlib.pyplot as plt"
   ]
  },
  {
   "cell_type": "markdown",
   "metadata": {},
   "source": [
    "# Specify model parameters"
   ]
  },
  {
   "cell_type": "code",
   "execution_count": 3,
   "metadata": {},
   "outputs": [],
   "source": [
    "models = MMI.settings.model.keys()\n",
    "models = list(models)\n",
    "select_model = widgets.Dropdown(options=models, description=\"Select model: \")"
   ]
  },
  {
   "cell_type": "markdown",
   "metadata": {},
   "source": [
    "Linear Regression"
   ]
  },
  {
   "cell_type": "code",
   "execution_count": 4,
   "metadata": {},
   "outputs": [],
   "source": [
    "settings.model['Linear Regression']['model'].cvFold = 3"
   ]
  },
  {
   "cell_type": "markdown",
   "metadata": {},
   "source": [
    "Kraskov"
   ]
  },
  {
   "cell_type": "code",
   "execution_count": 5,
   "metadata": {},
   "outputs": [],
   "source": [
    "Kraskov = settings.model['Kraskov']['model']\n",
    "Kraskov.discrete_features = 'auto'\n",
    "Kraskov.n_neighbors = 3\n",
    "Kraskov.random_state = None"
   ]
  },
  {
   "cell_type": "markdown",
   "metadata": {},
   "source": [
    "CART"
   ]
  },
  {
   "cell_type": "code",
   "execution_count": 6,
   "metadata": {},
   "outputs": [],
   "source": [
    "settings.model['Cart Reg']['model'].cvFold = 3"
   ]
  },
  {
   "cell_type": "markdown",
   "metadata": {},
   "source": [
    "MINE (direct)"
   ]
  },
  {
   "cell_type": "code",
   "execution_count": 7,
   "metadata": {},
   "outputs": [],
   "source": [
    "MINE_direct = settings.model['MINE_direct']['model']\n",
    "MINE_direct.log_freq=int(100), \n",
    "MINE_direct.avg_freq=int(10), \n",
    "MINE_direct.verbose=False,\n",
    "MINE_direct.log=True,\n",
    "MINE_direct.sample_mode='marginal'"
   ]
  },
  {
   "cell_type": "markdown",
   "metadata": {},
   "source": [
    "MINE via Entropy"
   ]
  },
  {
   "cell_type": "code",
   "execution_count": 8,
   "metadata": {},
   "outputs": [],
   "source": [
    "MINE_entropy = settings.model['MINE_entropy']['model']\n",
    "MINE_entropy.log_freq=int(100)\n",
    "MINE_entropy.avg_freq=int(10) \n",
    "MINE_entropy.verbose=False"
   ]
  },
  {
   "cell_type": "markdown",
   "metadata": {},
   "source": [
    "# Specify data parameters"
   ]
  },
  {
   "cell_type": "code",
   "execution_count": 9,
   "metadata": {
    "scrolled": true
   },
   "outputs": [],
   "source": [
    "datasets = settings.data.keys()\n",
    "datasets = list(datasets)\n",
    "datasets.append('Self-Defined')\n",
    "select_data = widgets.Dropdown(options=datasets, description=\"Select data: \")"
   ]
  },
  {
   "cell_type": "code",
   "execution_count": 10,
   "metadata": {},
   "outputs": [],
   "source": [
    "#Default value of datasets are shown, can be user-specified\n",
    "def generate_dataset(selected_data):\n",
    "    if (selected_data == 'BiModal'):\n",
    "        dataset = MMI.data.bimodal.BiModal(n_samples=400, mean1=0, mean2=0, rho1=0.9, rho2=-0.9, mix=0.5, theta=0)\n",
    "    elif (selected_data == 'Gaussian'):\n",
    "        dataset = MMI.data.gaussian.Gaussian(n_samples=200, mean1=0, mean2=1, rho=0.5)\n",
    "    elif (selected_data == 'Uniform'):\n",
    "        dataset = MMI.data.uniform.Uniform(mix=0.5, width_a=10, width_b=10, n_samples=200)\n",
    "    elif (selected_data == 'Self-Defined'):\n",
    "        pass\n",
    "        #define custom dataset, n by 2 matrix with n being number of samples\n",
    "        #can also define ground truth\n",
    "        #dataset = \n",
    "    return dataset"
   ]
  },
  {
   "cell_type": "code",
   "execution_count": 11,
   "metadata": {},
   "outputs": [],
   "source": [
    "def plot_data(data, dataname):\n",
    "    plt.scatter(data[:, 0], data[:, 1])\n",
    "    plt.title(dataname + ' data')\n",
    "    plt.show()\n",
    "    plt.close()"
   ]
  },
  {
   "cell_type": "markdown",
   "metadata": {},
   "source": [
    "# Specify simulation function"
   ]
  },
  {
   "cell_type": "code",
   "execution_count": 12,
   "metadata": {},
   "outputs": [],
   "source": [
    "results = dict()"
   ]
  },
  {
   "cell_type": "code",
   "execution_count": 13,
   "metadata": {},
   "outputs": [],
   "source": [
    "def get_estimation_interactive(data_model, modelname):\n",
    "    \"\"\"\n",
    "    Returns: results, example:\n",
    "                \n",
    "        results example: \n",
    "        {\n",
    "            'Ground Truth': 0.5, \n",
    "            'Linear Regression': 0.4, \n",
    "            'SVM': 0.4, ...\n",
    "        }\n",
    "    \"\"\"\n",
    "\n",
    "    data = data_model.data\n",
    "\n",
    "    mi_estimation = settings.model[modelname]['model'].predict(data)\n",
    " \n",
    "    # Save Results\n",
    "    return mi_estimation"
   ]
  },
  {
   "cell_type": "code",
   "execution_count": 14,
   "metadata": {
    "scrolled": true
   },
   "outputs": [],
   "source": [
    "btn_sim = widgets.Button(description=\"Run simulation\")\n",
    "def on_button_clicked(b):\n",
    "    results[select_model.value] = get_estimation_interactive(dataset, select_model.value)\n",
    "btn_sim.on_click(on_button_clicked)"
   ]
  },
  {
   "cell_type": "code",
   "execution_count": 15,
   "metadata": {},
   "outputs": [],
   "source": [
    "btn_result = widgets.Button(description=\"Show result\")\n",
    "def showresult(b):\n",
    "    print(results)\n",
    "btn_result.on_click(showresult)"
   ]
  },
  {
   "cell_type": "markdown",
   "metadata": {},
   "source": [
    "# Run simulation"
   ]
  },
  {
   "cell_type": "markdown",
   "metadata": {},
   "source": [
    "### Select data"
   ]
  },
  {
   "cell_type": "code",
   "execution_count": 16,
   "metadata": {
    "scrolled": true
   },
   "outputs": [
    {
     "data": {
      "application/vnd.jupyter.widget-view+json": {
       "model_id": "af0c1e1766a64dc49a821d83cff72d5d",
       "version_major": 2,
       "version_minor": 0
      },
      "text/plain": [
       "Dropdown(description='Select data: ', options=('BiModal', 'Gaussian', 'Uniform', 'Self-Defined'), value='BiMod…"
      ]
     },
     "metadata": {},
     "output_type": "display_data"
    }
   ],
   "source": [
    "select_data"
   ]
  },
  {
   "cell_type": "code",
   "execution_count": 17,
   "metadata": {
    "scrolled": false
   },
   "outputs": [],
   "source": [
    "dataset = generate_dataset(select_data.value)\n",
    "X = dataset.data\n",
    "ground_truth = dataset.ground_truth"
   ]
  },
  {
   "cell_type": "code",
   "execution_count": 18,
   "metadata": {
    "scrolled": true
   },
   "outputs": [
    {
     "data": {
      "image/png": "[encoded data removed]",
      "text/plain": [
       "<Figure size 432x288 with 1 Axes>"
      ]
     },
     "metadata": {
      "needs_background": "light"
     },
     "output_type": "display_data"
    }
   ],
   "source": [
    "plot_data(X, select_data.value)"
   ]
  },
  {
   "cell_type": "code",
   "execution_count": 19,
   "metadata": {},
   "outputs": [],
   "source": [
    "# Add ground truth of data to results\n",
    "results['Ground Truth'] = ground_truth"
   ]
  },
  {
   "cell_type": "markdown",
   "metadata": {},
   "source": [
    "### Select and run model"
   ]
  },
  {
   "cell_type": "code",
   "execution_count": 20,
   "metadata": {
    "scrolled": false
   },
   "outputs": [
    {
     "data": {
      "application/vnd.jupyter.widget-view+json": {
       "model_id": "afb4a8e0f1c44d0f865f48bb3a8e19ae",
       "version_major": 2,
       "version_minor": 0
      },
      "text/plain": [
       "Dropdown(description='Select model: ', options=('Linear Regression', 'Kraskov', 'Cart Reg', 'MINE_direct', 'MI…"
      ]
     },
     "metadata": {},
     "output_type": "display_data"
    }
   ],
   "source": [
    "select_model"
   ]
  },
  {
   "cell_type": "code",
   "execution_count": 21,
   "metadata": {
    "scrolled": true
   },
   "outputs": [
    {
     "data": {
      "application/vnd.jupyter.widget-view+json": {
       "model_id": "6d4aeaf2ac5d479b9dfda5cbdb5dd776",
       "version_major": 2,
       "version_minor": 0
      },
      "text/plain": [
       "Button(description='Run simulation', style=ButtonStyle())"
      ]
     },
     "metadata": {},
     "output_type": "display_data"
    }
   ],
   "source": [
    "btn_sim"
   ]
  },
  {
   "cell_type": "code",
   "execution_count": 22,
   "metadata": {
    "scrolled": true
   },
   "outputs": [
    {
     "data": {
      "application/vnd.jupyter.widget-view+json": {
       "model_id": "ff8e6c201eed4dcf9f87aa7f5b93b823",
       "version_major": 2,
       "version_minor": 0
      },
      "text/plain": [
       "Button(description='Show result', style=ButtonStyle())"
      ]
     },
     "metadata": {},
     "output_type": "display_data"
    },
    {
     "name": "stdout",
     "output_type": "stream",
     "text": [
      "{'Ground Truth': 0.4084425498386879, 'Linear Regression': -0.0025132146679742173}\n"
     ]
    }
   ],
   "source": [
    "btn_result"
   ]
  },
  {
   "cell_type": "code",
   "execution_count": null,
   "metadata": {},
   "outputs": [],
   "source": []
  }
 ],
 "metadata": {
  "kernelspec": {
   "display_name": "Python 3",
   "language": "python",
   "name": "python3"
  },
  "language_info": {
   "codemirror_mode": {
    "name": "ipython",
    "version": 3
   },
   "file_extension": ".py",
   "mimetype": "text/x-python",
   "name": "python",
   "nbconvert_exporter": "python",
   "pygments_lexer": "ipython3",
   "version": "3.7.0"
  }
 },
 "nbformat": 4,
 "nbformat_minor": 2
}
