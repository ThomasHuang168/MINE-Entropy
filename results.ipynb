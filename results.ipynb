{
 "cells": [
  {
   "cell_type": "markdown",
   "metadata": {},
   "source": [
    "# Specify Path of MINE_net to load"
   ]
  },
  {
   "cell_type": "code",
   "execution_count": 1,
   "metadata": {},
   "outputs": [],
   "source": [
    "import os\n",
    "from os import path as p"
   ]
  },
  {
   "cell_type": "markdown",
   "metadata": {},
   "source": [
    "Use dropdown for the following instead\n",
    "- For consistency with the naming convention, change 'Mixed Gaussian' to 'Mixed_Gaussian'\n",
    "- For consistency with the parameter name in the code, population_size to n_samples."
   ]
  },
  {
   "cell_type": "code",
   "execution_count": 2,
   "metadata": {},
   "outputs": [],
   "source": [
    "import ipywidgets as widgets\n",
    "from IPython.display import display, clear_output"
   ]
  },
  {
   "cell_type": "code",
   "execution_count": 3,
   "metadata": {},
   "outputs": [
    {
     "name": "stdout",
     "output_type": "stream",
     "text": [
      "C:\\Users\\Michael\\Documents\\GitHub\\michael\\MINE-Entropy\\results\n"
     ]
    }
   ],
   "source": [
    "proj_path = p.dirname(p.abspath('MINE-Entropy'))\n",
    "exp_path = p.join(proj_path, \"results\")\n",
    "print(exp_path)"
   ]
  },
  {
   "cell_type": "code",
   "execution_count": 4,
   "metadata": {},
   "outputs": [
    {
     "name": "stdout",
     "output_type": "stream",
     "text": [
      "C:\\Users\\Michael\\Documents\\GitHub\\michael\\MINE-Entropy\\results\\pop=2048_batch=128\n"
     ]
    }
   ],
   "source": [
    "batch_size=128\n",
    "population_size=2048\n",
    "sub_path = p.join(exp_path, \"pop={}_batch={}\".format(population_size, batch_size))\n",
    "print(sub_path)"
   ]
  },
  {
   "cell_type": "code",
   "execution_count": 5,
   "metadata": {
    "scrolled": true
   },
   "outputs": [
    {
     "data": {
      "application/vnd.jupyter.widget-view+json": {
       "model_id": "454ce124c4e14fb49b5afddd3b49d585",
       "version_major": 2,
       "version_minor": 0
      },
      "text/plain": [
       "Dropdown(description='Select data: ', options=('Mixed Gaussian', 'Gaussian', 'Mixed Uniform'), value='Mixed Ga…"
      ]
     },
     "metadata": {},
     "output_type": "display_data"
    }
   ],
   "source": [
    "datasets = [\"Mixed Gaussian\", \"Gaussian\", \"Mixed Uniform\"]\n",
    "select_data = widgets.Dropdown(options=datasets, description=\"Select data: \")\n",
    "display(select_data)"
   ]
  },
  {
   "cell_type": "code",
   "execution_count": 6,
   "metadata": {},
   "outputs": [
    {
     "name": "stdout",
     "output_type": "stream",
     "text": [
      "Data path is:\n",
      "C:\\Users\\Michael\\Documents\\GitHub\\michael\\MINE-Entropy\\results\\pop=2048_batch=128\\Mixed Gaussian_rho1=0.9\n"
     ]
    }
   ],
   "source": [
    "data_name=select_data.value\n",
    "\n",
    "vary_name=\"rho1\"\n",
    "vary_val=0.9\n",
    "data_path = p.join(sub_path, \"{}_{}={}\".format(data_name, vary_name, vary_val))\n",
    "print(\"Data path is:\")\n",
    "print(data_path)"
   ]
  },
  {
   "cell_type": "code",
   "execution_count": 7,
   "metadata": {},
   "outputs": [
    {
     "data": {
      "application/vnd.jupyter.widget-view+json": {
       "model_id": "f3b0904cd05849eeab4a0c2b3da3749e",
       "version_major": 2,
       "version_minor": 0
      },
      "text/plain": [
       "Dropdown(description='Select model: ', options=('MINE_direct', 'MINE_entropy', 'MINE_multi_task'), value='MINE…"
      ]
     },
     "metadata": {},
     "output_type": "display_data"
    }
   ],
   "source": [
    "models = [\"MINE_direct\", \"MINE_entropy\", \"MINE_multi_task\"]\n",
    "select_model = widgets.Dropdown(options=models, description=\"Select model: \")\n",
    "display(select_model)"
   ]
  },
  {
   "cell_type": "code",
   "execution_count": 8,
   "metadata": {},
   "outputs": [
    {
     "name": "stdout",
     "output_type": "stream",
     "text": [
      "Model path is:\n",
      "C:\\Users\\Michael\\Documents\\GitHub\\michael\\MINE-Entropy\\results\\pop=2048_batch=128\\Mixed Gaussian_rho1=0.9\\MINE_direct\n"
     ]
    }
   ],
   "source": [
    "model_name=select_model.value\n",
    "model_path = p.join(data_path, model_name)\n",
    "print(\"Model path is:\")\n",
    "print(model_path)"
   ]
  },
  {
   "cell_type": "markdown",
   "metadata": {},
   "source": [
    "Output directory to store plots"
   ]
  },
  {
   "cell_type": "code",
   "execution_count": 9,
   "metadata": {},
   "outputs": [],
   "source": [
    "out_path = p.join(proj_path,'Output')\n",
    "os.makedirs(p.join(proj_path,'Output'),exist_ok=True)"
   ]
  },
  {
   "cell_type": "markdown",
   "metadata": {},
   "source": [
    "# Import minee and needed packages"
   ]
  },
  {
   "cell_type": "code",
   "execution_count": 10,
   "metadata": {},
   "outputs": [],
   "source": [
    "import minee \n",
    "import torch"
   ]
  },
  {
   "cell_type": "code",
   "execution_count": 11,
   "metadata": {},
   "outputs": [],
   "source": [
    "from minee import settings\n",
    "MINE_dir = settings.model[model_name]['model']"
   ]
  },
  {
   "cell_type": "markdown",
   "metadata": {},
   "source": [
    "# Load Mine_net"
   ]
  },
  {
   "cell_type": "code",
   "execution_count": 12,
   "metadata": {},
   "outputs": [
    {
     "name": "stdout",
     "output_type": "stream",
     "text": [
      "C:\\Users\\Michael\\Documents\\GitHub\\michael\\MINE-Entropy\\results\\pop=2048_batch=128\\Mixed Gaussian_rho1=0.9\\MINE_direct\\checkpoint_iter=78125.pt\n"
     ]
    }
   ],
   "source": [
    "iter_num = 78125\n",
    "mine_file = p.join(model_path, \"checkpoint_iter={}.pt\".format(iter_num))\n",
    "print(mine_file)\n",
    "MINE_dir.mine_net.load_state_dict(torch.load(mine_file))"
   ]
  },
  {
   "cell_type": "markdown",
   "metadata": {},
   "source": [
    "# Load Train and valid mi_lb curve"
   ]
  },
  {
   "cell_type": "code",
   "execution_count": 13,
   "metadata": {},
   "outputs": [],
   "source": [
    "import numpy as np\n",
    "MINE_dir.avg_train_mi_lb = np.loadtxt(p.join(model_path, \"avg_train_mi_lb.txt\"))\n",
    "MINE_dir.avg_valid_mi_lb = np.loadtxt(p.join(model_path, \"avg_valid_mi_lb.txt\"))\n",
    "# MINE_dir.avg_train_loss = np.loadtxt(p.join(model_path, \"avg_train_loss.txt\"))\n",
    "# MINE_dir.avg_test_loss = np.loadtxt(p.join(model_path, \"avg_test_loss.txt\"))"
   ]
  },
  {
   "cell_type": "markdown",
   "metadata": {},
   "source": [
    "# Generate Data"
   ]
  },
  {
   "cell_type": "markdown",
   "metadata": {},
   "source": [
    "Allow the input of a random seed. Can use 0 as the default for our result, so there is no need to store the random seed."
   ]
  },
  {
   "cell_type": "code",
   "execution_count": 14,
   "metadata": {},
   "outputs": [],
   "source": [
    "#Default value of datasets are shown\n",
    "#Data can also be user-specified\n",
    "def generate_dataset(selected_data):\n",
    "    if (selected_data == 'Mixed Gaussian'):\n",
    "        dataset = minee.data.mix_gaussian.MixedGaussian(n_samples=400, mean1=0, mean2=0, rho1=0.9, rho2=-0.9, mix=0.5, theta=0)\n",
    "    elif (selected_data == 'Gaussian'):\n",
    "        dataset = minee.data.gaussian.Gaussian(n_samples=200, mean1=0, mean2=1, rho=0.8)\n",
    "    elif (selected_data == 'Mixed Uniform'):\n",
    "        dataset = minee.data.mix_uniform.MixedUniform(mix=0.5, width_a=10, width_b=10, n_samples=200)\n",
    "    return dataset\n",
    "gaus = generate_dataset(data_name)\n",
    "X = gaus.data"
   ]
  },
  {
   "cell_type": "markdown",
   "metadata": {},
   "source": [
    "# Generate figure"
   ]
  },
  {
   "cell_type": "code",
   "execution_count": 15,
   "metadata": {},
   "outputs": [],
   "source": [
    "from sklearn.model_selection import train_test_split"
   ]
  },
  {
   "cell_type": "code",
   "execution_count": 16,
   "metadata": {},
   "outputs": [],
   "source": [
    "def train_mine(X):\n",
    "    MINE_dir.X_train, MINE_dir.X_test = train_test_split(X, test_size=0.35, random_state=0)\n",
    "    MINE_dir.ground_truth = gaus.ground_truth\n",
    "    mi_lb = MINE_dir.forward_pass(MINE_dir.X_test).item()\n",
    "    MINE_dir.savefig(X, mi_lb, suffix=\"_test2\")"
   ]
  },
  {
   "cell_type": "markdown",
   "metadata": {},
   "source": [
    "Generate pgf plot instead of png for inclusion in LaTeX. Also present the plots in jupyter notebook.\n",
    "See https://matplotlib.org/users/pgf.html"
   ]
  },
  {
   "cell_type": "code",
   "execution_count": 17,
   "metadata": {},
   "outputs": [],
   "source": [
    "import matplotlib as mpl\n",
    "import matplotlib.pyplot as plt\n",
    "pgf_with_rc_fonts = {\n",
    "    \"pgf.rcfonts\" : False,\n",
    "    \"axes.unicode_minus\" : False,\n",
    "    \"pgf.texsystem\": \"pdflatex\"\n",
    "}\n",
    "mpl.rcParams.update(pgf_with_rc_fonts)"
   ]
  },
  {
   "cell_type": "code",
   "execution_count": 18,
   "metadata": {},
   "outputs": [],
   "source": [
    "def plot_data(X, data_name):\n",
    "    #show plot\n",
    "    data_plot = plt.figure()\n",
    "    plt.scatter(X[:,1], X[:,0], color='red', marker='o')\n",
    "    plt.title('Scatter Plot of %s Data' % (data_name))\n",
    "    plt.show()\n",
    "    #save figure\n",
    "    data_plot.savefig(p.join(out_path,'data.pdf'),bbox_inches='tight') # For preview\n",
    "    data_plot.savefig(p.join(out_path,'data.pgf')) # For inclusion in latex"
   ]
  },
  {
   "cell_type": "code",
   "execution_count": 19,
   "metadata": {
    "scrolled": true
   },
   "outputs": [],
   "source": [
    "# Define output box\n",
    "output_plot = widgets.Output()\n",
    "\n",
    "# Function to train the algorithm and plot the results\n",
    "def train_and_plot():\n",
    "    output_plot.clear_output()\n",
    "    #Update data and model\n",
    "    gaus = generate_dataset(select_data.value)\n",
    "    X = gaus.data\n",
    "    MINE_dir = settings.model[select_model.value]['model']\n",
    "    with output_plot:\n",
    "        print(\"Running...\")\n",
    "    train_mine(X)\n",
    "    output_plot.clear_output()\n",
    "    with output_plot:\n",
    "        plot_data(X, select_data.value)\n",
    "        \n",
    "#Update data or model according to user selection and rerun\n",
    "def changed_param(b):\n",
    "    train_and_plot()\n",
    "    \n",
    "# Observe if data selection is changed\n",
    "select_data.observe(changed_param, names=\"value\")\n",
    "select_model.observe(changed_param, names=\"value\")"
   ]
  },
  {
   "cell_type": "code",
   "execution_count": 20,
   "metadata": {},
   "outputs": [
    {
     "data": {
      "application/vnd.jupyter.widget-view+json": {
       "model_id": "454ce124c4e14fb49b5afddd3b49d585",
       "version_major": 2,
       "version_minor": 0
      },
      "text/plain": [
       "Dropdown(description='Select data: ', options=('Mixed Gaussian', 'Gaussian', 'Mixed Uniform'), value='Mixed Ga…"
      ]
     },
     "metadata": {},
     "output_type": "display_data"
    },
    {
     "data": {
      "application/vnd.jupyter.widget-view+json": {
       "model_id": "f3b0904cd05849eeab4a0c2b3da3749e",
       "version_major": 2,
       "version_minor": 0
      },
      "text/plain": [
       "Dropdown(description='Select model: ', options=('MINE_direct', 'MINE_entropy', 'MINE_multi_task'), value='MINE…"
      ]
     },
     "metadata": {},
     "output_type": "display_data"
    },
    {
     "data": {
      "application/vnd.jupyter.widget-view+json": {
       "model_id": "9690aa61fc494ad29c9f8b989fd2510a",
       "version_major": 2,
       "version_minor": 0
      },
      "text/plain": [
       "Output()"
      ]
     },
     "metadata": {},
     "output_type": "display_data"
    }
   ],
   "source": [
    "# Display dropdown to allow user to select another data or model and rerun\n",
    "display(select_data)\n",
    "display(select_model)\n",
    "\n",
    "# Output box for data plot\n",
    "display(output_plot)\n",
    "\n",
    "# Run according to parameters defined before\n",
    "train_and_plot()"
   ]
  },
  {
   "cell_type": "markdown",
   "metadata": {},
   "source": [
    "# Explore other data"
   ]
  },
  {
   "cell_type": "markdown",
   "metadata": {},
   "source": [
    "Implementation is not yet finished"
   ]
  },
  {
   "cell_type": "code",
   "execution_count": 21,
   "metadata": {},
   "outputs": [
    {
     "data": {
      "application/vnd.jupyter.widget-view+json": {
       "model_id": "01f22f8fa43343208a01ff69323aa7d7",
       "version_major": 2,
       "version_minor": 0
      },
      "text/plain": [
       "Dropdown(description='Select model: ', options=('MINE_direct', 'MINE_entropy', 'MINE_multi_task'), value='MINE…"
      ]
     },
     "metadata": {},
     "output_type": "display_data"
    }
   ],
   "source": [
    "select_model_other = widgets.Dropdown(options=models, description=\"Select model: \")\n",
    "display(select_model_other)"
   ]
  },
  {
   "cell_type": "code",
   "execution_count": 22,
   "metadata": {},
   "outputs": [],
   "source": [
    "# MINE_dir = settings.model[select_model_other.value]['model']\n",
    "# # X = \n",
    "# # data_name = \n",
    "# train_mine(X)\n",
    "# plot_data(X, data_name)"
   ]
  },
  {
   "cell_type": "code",
   "execution_count": null,
   "metadata": {},
   "outputs": [],
   "source": []
  }
 ],
 "metadata": {
  "kernelspec": {
   "display_name": "Python 3",
   "language": "python",
   "name": "python3"
  },
  "language_info": {
   "codemirror_mode": {
    "name": "ipython",
    "version": 3
   },
   "file_extension": ".py",
   "mimetype": "text/x-python",
   "name": "python",
   "nbconvert_exporter": "python",
   "pygments_lexer": "ipython3",
   "version": "3.7.0"
  }
 },
 "nbformat": 4,
 "nbformat_minor": 2
}
