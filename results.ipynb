{
 "cells": [
  {
   "cell_type": "markdown",
   "metadata": {},
   "source": [
    "# Specify Path of MINE_net to load"
   ]
  },
  {
   "cell_type": "code",
   "execution_count": 21,
   "metadata": {},
   "outputs": [],
   "source": [
    "import os\n",
    "from os import path as p"
   ]
  },
  {
   "cell_type": "markdown",
   "metadata": {},
   "source": [
    "Use dropdown for the following instead\n",
    "- For consistency with the naming convention, change 'Mixed Gaussian' to 'Mixed_Gaussian'\n",
    "- For consistency with the parameter name in the code, population_size to n_samples."
   ]
  },
  {
   "cell_type": "code",
   "execution_count": 22,
   "metadata": {},
   "outputs": [
    {
     "name": "stdout",
     "output_type": "stream",
     "text": [
      "C:\\Users\\chung\\Dropbox\\GitHub\\MINE-Entropy\\results\n"
     ]
    }
   ],
   "source": [
    "proj_path = p.dirname(p.abspath('MINE-Entropy'))\n",
    "exp_path = p.join(proj_path, \"results\")\n",
    "print(exp_path)"
   ]
  },
  {
   "cell_type": "code",
   "execution_count": 23,
   "metadata": {},
   "outputs": [
    {
     "name": "stdout",
     "output_type": "stream",
     "text": [
      "C:\\Users\\chung\\Dropbox\\GitHub\\MINE-Entropy\\results\\pop=2048_batch=128\n"
     ]
    }
   ],
   "source": [
    "batch_size=128\n",
    "population_size=2048\n",
    "sub_path = p.join(exp_path, \"pop={}_batch={}\".format(population_size, batch_size))\n",
    "print(sub_path)"
   ]
  },
  {
   "cell_type": "code",
   "execution_count": 24,
   "metadata": {},
   "outputs": [
    {
     "name": "stdout",
     "output_type": "stream",
     "text": [
      "C:\\Users\\chung\\Dropbox\\GitHub\\MINE-Entropy\\results\\pop=2048_batch=128\\Mixed Gaussian_rho1=0.9\n"
     ]
    }
   ],
   "source": [
    "data_name=\"Mixed Gaussian\"\n",
    "vary_name=\"rho1\"\n",
    "vary_val=0.9\n",
    "data_path = p.join(sub_path, \"{}_{}={}\".format(data_name, vary_name, vary_val))\n",
    "print(data_path)"
   ]
  },
  {
   "cell_type": "code",
   "execution_count": 25,
   "metadata": {},
   "outputs": [
    {
     "name": "stdout",
     "output_type": "stream",
     "text": [
      "C:\\Users\\chung\\Dropbox\\GitHub\\MINE-Entropy\\results\\pop=2048_batch=128\\Mixed Gaussian_rho1=0.9\\MINE_direct\n"
     ]
    }
   ],
   "source": [
    "model_name=\"MINE_direct\"\n",
    "model_path = p.join(data_path, model_name)\n",
    "print(model_path)"
   ]
  },
  {
   "cell_type": "markdown",
   "metadata": {},
   "source": [
    "Output directory to store plots"
   ]
  },
  {
   "cell_type": "code",
   "execution_count": 42,
   "metadata": {},
   "outputs": [],
   "source": [
    "out_path = p.join(proj_path,'Output')\n",
    "os.makedirs(p.join(proj_path,'Output'),exist_ok=True)"
   ]
  },
  {
   "cell_type": "markdown",
   "metadata": {},
   "source": [
    "# Import minee and needed packages"
   ]
  },
  {
   "cell_type": "code",
   "execution_count": 26,
   "metadata": {},
   "outputs": [],
   "source": [
    "import minee \n",
    "import torch"
   ]
  },
  {
   "cell_type": "code",
   "execution_count": 27,
   "metadata": {},
   "outputs": [],
   "source": [
    "from minee import settings\n",
    "MINE_dir = settings.model[model_name]['model']"
   ]
  },
  {
   "cell_type": "markdown",
   "metadata": {},
   "source": [
    "# Load Mine_net"
   ]
  },
  {
   "cell_type": "code",
   "execution_count": 28,
   "metadata": {},
   "outputs": [],
   "source": [
    "iter_num = 78125\n",
    "mine_file = p.join(model_path, \"checkpoint_iter={}.pt\".format(iter_num))\n",
    "MINE_dir.mine_net.load_state_dict(torch.load(mine_file))"
   ]
  },
  {
   "cell_type": "markdown",
   "metadata": {},
   "source": [
    "# Specify data parameters"
   ]
  },
  {
   "cell_type": "markdown",
   "metadata": {},
   "source": [
    "Allow the input of a random seed. Can use 0 as the default for our result, so there is no need to store the random seed."
   ]
  },
  {
   "cell_type": "code",
   "execution_count": 31,
   "metadata": {},
   "outputs": [],
   "source": [
    "#Default value of datasets are shown\n",
    "#Data can also be user-specified\n",
    "def generate_dataset(selected_data):\n",
    "    if (selected_data == 'Mixed Gaussian'):\n",
    "        dataset = minee.data.mix_gaussian.MixedGaussian(n_samples=400, mean1=0, mean2=0, rho1=0.9, rho2=-0.9, mix=0.5, theta=0)\n",
    "    elif (selected_data == 'Gaussian'):\n",
    "        dataset = minee.data.gaussian.Gaussian(n_samples=200, mean1=0, mean2=1, rho=0.8)\n",
    "    elif (selected_data == 'Mixed Uniform'):\n",
    "        dataset = minee.data.mix_uniform.MixedUniform(mix=0.5, width_a=10, width_b=10, n_samples=200)\n",
    "    elif (selected_data == 'Self-Defined'):\n",
    "        pass\n",
    "        #define custom dataset, n by 2 matrix with n being number of samples\n",
    "        #can also define ground truth\n",
    "        #dataset = \n",
    "    return dataset\n",
    "gaus = generate_dataset('Gaussian')\n",
    "X = gaus.data"
   ]
  },
  {
   "cell_type": "markdown",
   "metadata": {},
   "source": [
    "# Load Train and valid mi_lb curve"
   ]
  },
  {
   "cell_type": "code",
   "execution_count": 32,
   "metadata": {},
   "outputs": [],
   "source": [
    "import numpy as np\n",
    "MINE_dir.avg_train_mi_lb = np.loadtxt(p.join(model_path, \"avg_train_mi_lb.txt\"))\n",
    "MINE_dir.avg_valid_mi_lb = np.loadtxt(p.join(model_path, \"avg_valid_mi_lb.txt\"))\n",
    "# MINE_dir.avg_train_loss = np.loadtxt(p.join(model_path, \"avg_train_loss.txt\"))\n",
    "# MINE_dir.avg_test_loss = np.loadtxt(p.join(model_path, \"avg_test_loss.txt\"))"
   ]
  },
  {
   "cell_type": "markdown",
   "metadata": {},
   "source": [
    "# Generate figure"
   ]
  },
  {
   "cell_type": "code",
   "execution_count": 34,
   "metadata": {},
   "outputs": [],
   "source": [
    "from sklearn.model_selection import train_test_split\n",
    "MINE_dir.X_train, MINE_dir.X_test = train_test_split(X, test_size=0.35, random_state=0)\n",
    "MINE_dir.ground_truth = gaus.ground_truth\n",
    "mi_lb = MINE_dir.forward_pass(MINE_dir.X_test).item()\n",
    "MINE_dir.savefig(X, mi_lb, suffix=\"_test2\")"
   ]
  },
  {
   "cell_type": "markdown",
   "metadata": {},
   "source": [
    "Generate pgf plot instead of png for inclusion in LaTeX. Also present the plots in jupyter notebook.\n",
    "See https://matplotlib.org/users/pgf.html"
   ]
  },
  {
   "cell_type": "code",
   "execution_count": 65,
   "metadata": {},
   "outputs": [],
   "source": [
    "import matplotlib as mpl\n",
    "import matplotlib.pyplot as plt\n",
    "mpl.use(\"Agg\")\n",
    "pgf_with_rc_fonts = {\n",
    "    \"font.family\": ['serif'],\n",
    "    \"font.serif\": [],                   # use latex default serif font\n",
    "    \"font.sans-serif\": [], # use a specific sans-serif font\n",
    "}\n",
    "mpl.rcParams.update(pgf_with_rc_fonts)"
   ]
  },
  {
   "cell_type": "code",
   "execution_count": 66,
   "metadata": {},
   "outputs": [
    {
     "data": {
      "text/plain": [
       "Text(0.5, 1.0, 'scatter plot of data')"
      ]
     },
     "execution_count": 66,
     "metadata": {},
     "output_type": "execute_result"
    },
    {
     "data": {
      "image/png": "[encoded data removed]",
      "text/plain": [
       "<Figure size 432x288 with 1 Axes>"
      ]
     },
     "metadata": {
      "needs_background": "light"
     },
     "output_type": "display_data"
    }
   ],
   "source": [
    "data_plot = plt.figure()\n",
    "plt.scatter(X[:,1], X[:,0], color='red', marker='o')\n",
    "plt.title('scatter plot of data')"
   ]
  },
  {
   "cell_type": "code",
   "execution_count": 67,
   "metadata": {},
   "outputs": [],
   "source": [
    "data_plot.savefig(p.join(out_path,'data.pdf'),bbox_inches='tight')\n",
    "data_plot.savefig(p.join(out_path,'data.pgf'))"
   ]
  }
 ],
 "metadata": {
  "kernelspec": {
   "display_name": "Python 3",
   "language": "python",
   "name": "python3"
  },
  "language_info": {
   "codemirror_mode": {
    "name": "ipython",
    "version": 3
   },
   "file_extension": ".py",
   "mimetype": "text/x-python",
   "name": "python",
   "nbconvert_exporter": "python",
   "pygments_lexer": "ipython3",
   "version": "3.7.1"
  }
 },
 "nbformat": 4,
 "nbformat_minor": 2
}
