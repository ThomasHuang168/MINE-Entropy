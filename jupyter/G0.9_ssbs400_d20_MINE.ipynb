{
 "cells": [
  {
   "cell_type": "code",
   "execution_count": 1,
   "metadata": {},
   "outputs": [],
   "source": [
    "name = 'G0.9_ssbs400_d20_MINE' # filename to load/save the results\n",
    "chkpt_name = name+'.pt'\n",
    "fig_name = name+'.pdf'"
   ]
  },
  {
   "cell_type": "code",
   "execution_count": 2,
   "metadata": {},
   "outputs": [
    {
     "name": "stdout",
     "output_type": "stream",
     "text": [
      "Using matplotlib backend: MacOSX\n"
     ]
    }
   ],
   "source": [
    "import numpy as np\n",
    "import torch\n",
    "if torch.cuda.is_available():\n",
    "    torch.set_default_tensor_type(torch.cuda.FloatTensor)\n",
    "else:\n",
    "    torch.set_default_tensor_type(torch.FloatTensor)\n",
    "    \n",
    "import matplotlib as mpl\n",
    "import matplotlib.pyplot as plt\n",
    "\n",
    "from ipywidgets import interact\n",
    "\n",
    "from IPython import display\n",
    "\n",
    "import os\n",
    "\n",
    "%matplotlib auto"
   ]
  },
  {
   "cell_type": "code",
   "execution_count": 3,
   "metadata": {},
   "outputs": [],
   "source": [
    "from model.mine import MINE\n",
    "from data.gaussian import Gaussian"
   ]
  },
  {
   "cell_type": "code",
   "execution_count": 4,
   "metadata": {},
   "outputs": [
    {
     "data": {
      "text/plain": [
       "<torch._C.Generator at 0x1133bffb0>"
      ]
     },
     "execution_count": 4,
     "metadata": {},
     "output_type": "execute_result"
    }
   ],
   "source": [
    "np.random.seed(0)\n",
    "torch.manual_seed(0)"
   ]
  },
  {
   "cell_type": "markdown",
   "metadata": {},
   "source": [
    "## Data"
   ]
  },
  {
   "cell_type": "code",
   "execution_count": 5,
   "metadata": {},
   "outputs": [],
   "source": [
    "sample_size = 400\n",
    "rho = 0.9"
   ]
  },
  {
   "cell_type": "code",
   "execution_count": 6,
   "metadata": {},
   "outputs": [],
   "source": [
    "rep = 1 # number of repeated runs\n",
    "d = 20\n",
    "X = np.zeros((rep,sample_size,d))\n",
    "Y = np.zeros((rep,sample_size,d))\n",
    "for i in range(rep):\n",
    "    for j in range(d):\n",
    "        data = Gaussian(sample_size=sample_size,rho=rho).data\n",
    "        X[i,:,j] = data[:,0]\n",
    "        Y[i,:,j] = data[:,1]"
   ]
  },
  {
   "cell_type": "markdown",
   "metadata": {},
   "source": [
    "Generate the reference samples by resampling."
   ]
  },
  {
   "cell_type": "code",
   "execution_count": 23,
   "metadata": {},
   "outputs": [
    {
     "data": {
      "text/plain": [
       "Text(0.5,1,'Plot of data samples')"
      ]
     },
     "execution_count": 23,
     "metadata": {},
     "output_type": "execute_result"
    }
   ],
   "source": [
    "plt.scatter(X[0,:,0],Y[0,:,0],label=\"data\",marker=\"+\",color=\"steelblue\")\n",
    "plt.xlabel('X')\n",
    "plt.ylabel('Y')\n",
    "plt.title('Plot of data samples')"
   ]
  },
  {
   "cell_type": "markdown",
   "metadata": {},
   "source": [
    "## MI estimation"
   ]
  },
  {
   "cell_type": "markdown",
   "metadata": {},
   "source": [
    "### Choice of parameters"
   ]
  },
  {
   "cell_type": "code",
   "execution_count": 7,
   "metadata": {},
   "outputs": [],
   "source": [
    "batch_size = int(sample_size*1)\n",
    "lr = 1e-5\n",
    "ma_rate = 0.1"
   ]
  },
  {
   "cell_type": "markdown",
   "metadata": {},
   "source": [
    "### Initialization"
   ]
  },
  {
   "cell_type": "code",
   "execution_count": 8,
   "metadata": {},
   "outputs": [],
   "source": [
    "mine_list = []\n",
    "for i in range(rep):\n",
    "    mine_list.append(MINE(torch.Tensor(X[i]),torch.Tensor(Y[i]),batch_size=batch_size,lr=lr,ma_rate=ma_rate))\n",
    "dXY_list = np.zeros((rep,0))"
   ]
  },
  {
   "cell_type": "code",
   "execution_count": 10,
   "metadata": {},
   "outputs": [],
   "source": [
    "load_available = True\n",
    "if load_available and os.path.exists(chkpt_name):\n",
    "    checkpoint = torch.load(chkpt_name,map_location = 'cuda' if torch.cuda.is_available() else 'cpu')\n",
    "    dXY_list = checkpoint['dXY_list']\n",
    "    mine_state_list = checkpoint['mine_state_list']\n",
    "    for i in range(rep):\n",
    "        mine_list[i].load_state_dict(mine_state_list[i])"
   ]
  },
  {
   "cell_type": "markdown",
   "metadata": {},
   "source": [
    "### Training"
   ]
  },
  {
   "cell_type": "code",
   "execution_count": 10,
   "metadata": {},
   "outputs": [
    {
     "data": {
      "image/png": "[encoded data removed]",
      "text/plain": [
       "<Figure size 432x288 with 1 Axes>"
      ]
     },
     "metadata": {},
     "output_type": "display_data"
    }
   ],
   "source": [
    "for k in range(400):\n",
    "    for j in range(200):\n",
    "        dXY_list = np.append(dXY_list,np.zeros((rep,1)),axis=1)\n",
    "        for i in range(rep):\n",
    "            mine_list[i].step()\n",
    "            dXY_list[i,-1] = mine_list[i].forward()\n",
    "        # To show intermediate works\n",
    "    for i in range(rep):\n",
    "        plt.plot(dXY_list[i,:])\n",
    "    display.clear_output(wait=True)\n",
    "    display.display(plt.gcf())\n",
    "display.clear_output()"
   ]
  },
  {
   "cell_type": "code",
   "execution_count": 11,
   "metadata": {},
   "outputs": [],
   "source": [
    "mine_state_list = [mine_list[i].state_dict() for i in range(rep)]"
   ]
  },
  {
   "cell_type": "code",
   "execution_count": 12,
   "metadata": {},
   "outputs": [],
   "source": [
    "torch.save({\n",
    "    'dXY_list' : dXY_list,\n",
    "    'mine_state_list' : mine_state_list\n",
    "},chkpt_name)"
   ]
  },
  {
   "cell_type": "markdown",
   "metadata": {},
   "source": [
    "## Analysis"
   ]
  },
  {
   "cell_type": "markdown",
   "metadata": {},
   "source": [
    "Ground truth mutual information"
   ]
  },
  {
   "cell_type": "code",
   "execution_count": 13,
   "metadata": {},
   "outputs": [
    {
     "name": "stdout",
     "output_type": "stream",
     "text": [
      "16.607312068216512\n"
     ]
    }
   ],
   "source": [
    "mi = - 0.5 * np.log(1-rho **2) * d\n",
    "print(mi)"
   ]
  },
  {
   "cell_type": "markdown",
   "metadata": {},
   "source": [
    "Apply moving average to smooth out the mutual information estimate."
   ]
  },
  {
   "cell_type": "code",
   "execution_count": 15,
   "metadata": {},
   "outputs": [
    {
     "data": {
      "image/png": "[encoded data removed]",
      "text/plain": [
       "<Figure size 432x288 with 1 Axes>"
      ]
     },
     "metadata": {},
     "output_type": "display_data"
    }
   ],
   "source": [
    "ma_rate = 0.1\n",
    "mi_list = dXY_list.copy()\n",
    "for i in range(1,dXY_list.shape[1]):\n",
    "    mi_list[:,i] = (1-ma_rate) * mi_list[:,i-1] + ma_rate * mi_list[:,i]\n",
    "for i in range(rep):\n",
    "    plt.plot(mi_list[i,:])\n",
    "plt.axhline(mi)\n",
    "plt.title(\"Plot of MI estimates against number of iteractions\")\n",
    "plt.xlabel(\"number of iterations\")\n",
    "plt.ylabel(\"MI estimate\")\n",
    "plt.savefig(fig_name)"
   ]
  },
  {
   "cell_type": "code",
   "execution_count": 16,
   "metadata": {},
   "outputs": [
    {
     "data": {
      "text/plain": [
       "{'XY_net': OrderedDict([('fc1.weight',\n",
       "               tensor([[ 0.0439,  0.0510,  0.0441,  ..., -0.0120,  0.0557, -0.0672],\n",
       "                       [-0.0412, -0.0554,  0.0292,  ..., -0.0499, -0.0705, -0.0481],\n",
       "                       [-0.0200,  0.0132,  0.0468,  ...,  0.0622, -0.0529,  0.0512],\n",
       "                       ...,\n",
       "                       [-0.0396, -0.0262, -0.0086,  ...,  0.0105, -0.0098, -0.0417],\n",
       "                       [ 0.0598, -0.0658,  0.0554,  ..., -0.0182,  0.0318,  0.0260],\n",
       "                       [ 0.0362,  0.0624, -0.0686,  ..., -0.0171, -0.0360,  0.0501]])),\n",
       "              ('fc1.bias',\n",
       "               tensor([-0.0878, -0.0859, -0.0844, -0.0168, -0.0869, -0.0825, -0.0126, -0.0898,\n",
       "                       -0.0225, -0.0121, -0.0148, -0.0847, -0.0783, -0.0129, -0.0815, -0.0109,\n",
       "                       -0.0861, -0.0169, -0.0145, -0.0812, -0.0841, -0.0867, -0.0207, -0.0134,\n",
       "                       -0.0143, -0.0853, -0.0832, -0.0866, -0.0087, -0.0852, -0.0119, -0.0763,\n",
       "                       -0.0836, -0.0105, -0.0844, -0.0827, -0.0822, -0.0835, -0.0875, -0.0844,\n",
       "                       -0.0838, -0.0839, -0.0813, -0.0177, -0.0879, -0.0878, -0.0119, -0.0809,\n",
       "                       -0.0170, -0.0165, -0.0084, -0.0136, -0.0018, -0.0845, -0.0032, -0.0806,\n",
       "                       -0.0779, -0.0148, -0.0839, -0.0834, -0.0154, -0.0821, -0.0162, -0.0154,\n",
       "                       -0.0894, -0.0865, -0.0855, -0.0883, -0.0843, -0.0775, -0.0806, -0.0855,\n",
       "                       -0.0877, -0.0690, -0.0071, -0.0767, -0.0788, -0.0822, -0.0831, -0.0142,\n",
       "                       -0.0848, -0.0878, -0.0812, -0.0082, -0.0175, -0.0806, -0.0860, -0.0832,\n",
       "                       -0.0174, -0.0813, -0.0168, -0.0765, -0.0832, -0.0060, -0.0834, -0.0802,\n",
       "                       -0.0167, -0.0190, -0.0867, -0.0088, -0.0209, -0.0114, -0.0094, -0.0838,\n",
       "                       -0.0813, -0.0808, -0.0187, -0.0853, -0.0840, -0.0166, -0.0139, -0.0818,\n",
       "                       -0.0119, -0.0211, -0.0831, -0.0860, -0.0809, -0.0863, -0.0878, -0.0781,\n",
       "                       -0.0145, -0.0194, -0.0866, -0.0090, -0.0119, -0.0841, -0.0828, -0.0155,\n",
       "                       -0.0825, -0.0898, -0.0165, -0.0120, -0.0820, -0.0842, -0.0171, -0.0834,\n",
       "                       -0.0794, -0.0775, -0.0188, -0.0185, -0.0160, -0.0821, -0.0842, -0.0695,\n",
       "                       -0.0898, -0.0855, -0.0835, -0.0819, -0.0112, -0.0837, -0.0145, -0.0846,\n",
       "                       -0.0829, -0.0845, -0.0106, -0.0147, -0.0833, -0.0807, -0.0863, -0.0078,\n",
       "                       -0.0193, -0.0090, -0.0152, -0.0838, -0.0042, -0.0099, -0.0123, -0.0785,\n",
       "                       -0.0831, -0.0161, -0.0886, -0.0852, -0.0081, -0.0167, -0.0095, -0.0836,\n",
       "                       -0.0852, -0.0836, -0.0183, -0.0145, -0.0094, -0.0865, -0.0147, -0.0177,\n",
       "                       -0.0118, -0.0844, -0.0174, -0.0093, -0.0162, -0.0158, -0.0184, -0.0111,\n",
       "                       -0.0098, -0.0824, -0.0193, -0.0141, -0.0157, -0.0124, -0.0885, -0.0100,\n",
       "                       -0.0838, -0.0153, -0.0876, -0.0896, -0.0822, -0.0128, -0.0885, -0.0083,\n",
       "                       -0.0108, -0.0860, -0.0905, -0.0131, -0.0860, -0.0177, -0.0258, -0.0753,\n",
       "                       -0.0184, -0.0820, -0.0873, -0.0099, -0.0861, -0.0705, -0.0175, -0.0854,\n",
       "                       -0.0814, -0.0769, -0.0078, -0.0165, -0.0854, -0.0103, -0.0816, -0.0142,\n",
       "                       -0.0853, -0.0817, -0.0104, -0.0853, -0.0806, -0.0745, -0.0809, -0.0152,\n",
       "                       -0.0130, -0.0859, -0.0013, -0.0799, -0.0882, -0.0178, -0.0157, -0.0199,\n",
       "                       -0.0107, -0.0763, -0.0800, -0.0143, -0.0870, -0.0205, -0.0199, -0.0823,\n",
       "                       -0.0170, -0.0848, -0.0868, -0.0197, -0.0127, -0.0852, -0.0853, -0.0803,\n",
       "                       -0.0839, -0.0846, -0.0810, -0.0818, -0.0138, -0.0841, -0.0123, -0.0147,\n",
       "                       -0.0828, -0.0802, -0.0860, -0.0817, -0.0126, -0.0853, -0.0849, -0.0866,\n",
       "                       -0.0749, -0.0105, -0.0778, -0.0150, -0.0850, -0.0167, -0.0827, -0.0840,\n",
       "                       -0.0161, -0.0836, -0.0141, -0.0076, -0.0068, -0.0817, -0.0192, -0.0147,\n",
       "                       -0.0573, -0.0802, -0.0858, -0.0139])),\n",
       "              ('fc2.weight',\n",
       "               tensor([[ 0.0814,  0.1122,  0.0833,  ...,  0.0783,  0.0664, -0.0491],\n",
       "                       [ 0.0757,  0.0504,  0.1160,  ...,  0.0416,  0.0866, -0.0558],\n",
       "                       [-0.0505, -0.1013, -0.0913,  ..., -0.0878, -0.1296,  0.0228],\n",
       "                       ...,\n",
       "                       [ 0.0400,  0.1135,  0.0593,  ...,  0.1115,  0.1021, -0.0451],\n",
       "                       [ 0.0644,  0.1045,  0.0840,  ...,  0.0863,  0.1249, -0.0098],\n",
       "                       [-0.0874, -0.0804, -0.0517,  ..., -0.0761, -0.0943,  0.0249]])),\n",
       "              ('fc2.bias',\n",
       "               tensor([ 0.0234,  0.0118,  0.0604,  0.0217,  0.0576,  0.0239,  0.0209,  0.0150,\n",
       "                        0.0072,  0.0682,  0.0723,  0.0737,  0.0688,  0.0201,  0.0230,  0.0768,\n",
       "                        0.0165,  0.0190,  0.0632,  0.0140,  0.0781,  0.0052,  0.0336,  0.0110,\n",
       "                        0.0064,  0.0630,  0.0136,  0.0292,  0.0723,  0.0178,  0.0736,  0.0609,\n",
       "                        0.0684,  0.0184,  0.0072,  0.0640,  0.0079,  0.0708,  0.0646,  0.0246,\n",
       "                        0.0670,  0.0750,  0.0060,  0.0683,  0.0616,  0.0786,  0.0775,  0.0095,\n",
       "                        0.0667,  0.0208,  0.0735,  0.0757,  0.0125,  0.0298,  0.0760,  0.0720,\n",
       "                        0.0145,  0.0133,  0.0644,  0.0216,  0.0764,  0.0131,  0.0145,  0.0200,\n",
       "                        0.0745,  0.0290,  0.0647,  0.0337,  0.0149,  0.0763,  0.0777,  0.0718,\n",
       "                        0.0225,  0.0703,  0.0630,  0.0783,  0.0110,  0.0098,  0.0166,  0.0186,\n",
       "                        0.0193,  0.0660,  0.0728,  0.0599,  0.0726,  0.0280,  0.0688,  0.0694,\n",
       "                        0.0681,  0.0102,  0.0276,  0.0729,  0.0744,  0.0763,  0.0322,  0.0687,\n",
       "                        0.0642,  0.0127,  0.0745,  0.0101,  0.0735,  0.0300,  0.0114,  0.0705,\n",
       "                        0.0728,  0.0759,  0.0130,  0.0141,  0.0715,  0.0708,  0.0169,  0.0128,\n",
       "                        0.0286,  0.0250,  0.0307,  0.0174,  0.0692,  0.0192,  0.0169,  0.0071,\n",
       "                        0.0153,  0.0720,  0.0292,  0.0184,  0.0182,  0.0085,  0.0232,  0.0064,\n",
       "                        0.0071,  0.0196,  0.0264,  0.0026,  0.0231,  0.0370,  0.0124,  0.0184,\n",
       "                        0.0256,  0.0688,  0.0756,  0.0107,  0.0129,  0.0352,  0.0780,  0.0583,\n",
       "                        0.0177,  0.0236,  0.0774,  0.0260,  0.0160,  0.0255,  0.0686,  0.0278,\n",
       "                        0.0633,  0.0225,  0.0161,  0.0632,  0.0641,  0.0779,  0.0282,  0.0719,\n",
       "                        0.0269,  0.0738,  0.0152,  0.0731,  0.0763,  0.0698,  0.0630,  0.0206,\n",
       "                        0.0751,  0.0691,  0.0624,  0.0189,  0.0740,  0.0788,  0.0142,  0.0133,\n",
       "                        0.0728,  0.0086,  0.0149,  0.0284,  0.0685,  0.0142,  0.0667,  0.0109,\n",
       "                       -0.0034,  0.0168,  0.0025,  0.0081,  0.0058,  0.0755,  0.0297,  0.0263,\n",
       "                        0.0170,  0.0759,  0.0219,  0.0141,  0.0063,  0.0671,  0.0067,  0.0269,\n",
       "                        0.0132,  0.0072,  0.0606,  0.0173,  0.0079,  0.0144,  0.0710,  0.0146,\n",
       "                        0.0133,  0.0660,  0.0300,  0.0161,  0.0197,  0.0339,  0.0696,  0.0226,\n",
       "                        0.0266,  0.0619,  0.0131,  0.0576,  0.0181,  0.0315,  0.0290,  0.0194,\n",
       "                        0.0082,  0.0707,  0.0582,  0.0135,  0.0659,  0.0174,  0.0276,  0.0152,\n",
       "                        0.0154,  0.0663,  0.0663,  0.0779,  0.0081,  0.0171,  0.0182,  0.0738,\n",
       "                        0.0200,  0.0631,  0.0755,  0.0143,  0.0179,  0.0117,  0.0240,  0.0753,\n",
       "                        0.0627,  0.0653,  0.0653,  0.0158,  0.0758,  0.0641,  0.0653,  0.0672,\n",
       "                        0.0336,  0.0181,  0.0347,  0.0777,  0.0732,  0.0192,  0.0618,  0.0140,\n",
       "                        0.0315,  0.0175,  0.0154,  0.0174,  0.0659,  0.0135,  0.0687,  0.0298,\n",
       "                        0.0608,  0.0709,  0.0724,  0.0210,  0.0175,  0.0613,  0.0785,  0.0665,\n",
       "                        0.0193,  0.0229,  0.0140,  0.0719,  0.0637,  0.0733,  0.0186,  0.0165,\n",
       "                        0.0726,  0.0622,  0.0594,  0.0210,  0.0184,  0.0218,  0.0252,  0.0120,\n",
       "                        0.0241,  0.0134,  0.0286,  0.0736])),\n",
       "              ('fc3.weight',\n",
       "               tensor([[-0.1572, -0.1716,  0.1517, -0.1442,  0.1474, -0.1421, -0.1601, -0.1494,\n",
       "                        -0.1400,  0.1346,  0.1423,  0.1407,  0.1409, -0.1530, -0.1608,  0.1454,\n",
       "                        -0.1720, -0.1448,  0.1423, -0.1469,  0.1360, -0.1418, -0.1431, -0.1625,\n",
       "                        -0.1460,  0.1747, -0.1481, -0.1488,  0.1316, -0.1415,  0.1377,  0.1664,\n",
       "                         0.1307, -0.1428, -0.1666,  0.1767, -0.1623,  0.1387,  0.1476, -0.1589,\n",
       "                         0.1469,  0.1342, -0.1691,  0.1370,  0.1517,  0.1310,  0.1513, -0.1437,\n",
       "                         0.1381, -0.1482,  0.1710,  0.1505, -0.1454, -0.1481,  0.1461,  0.1519,\n",
       "                        -0.1588, -0.1535,  0.1675, -0.1741,  0.1448, -0.1878, -0.1406, -0.1624,\n",
       "                         0.1420, -0.1413,  0.1435, -0.1470, -0.1683,  0.1379,  0.1296,  0.1417,\n",
       "                        -0.1417,  0.1433,  0.1434,  0.1399, -0.1530, -0.1705, -0.1417, -0.1376,\n",
       "                        -0.1398,  0.1424,  0.1534,  0.1711,  0.1648, -0.1485,  0.1661,  0.1391,\n",
       "                         0.1317, -0.1518, -0.1604,  0.1326,  0.1416,  0.1499, -0.1588,  0.1424,\n",
       "                         0.1735, -0.1472,  0.1318, -0.1657,  0.1532, -0.1472, -0.1862,  0.1319,\n",
       "                         0.1370,  0.1411, -0.1764, -0.1492,  0.1499,  0.1375, -0.1548, -0.1572,\n",
       "                        -0.1518, -0.1579, -0.1549, -0.1420,  0.1454, -0.1588, -0.1497, -0.2016,\n",
       "                        -0.1438,  0.1428, -0.1647, -0.1441, -0.1491, -0.1510, -0.1760, -0.1595,\n",
       "                        -0.1623, -0.1886, -0.1572, -0.1700, -0.1645, -0.1397, -0.1505, -0.1632,\n",
       "                        -0.1465,  0.1386,  0.1338, -0.1923, -0.1525, -0.1397,  0.1412,  0.1394,\n",
       "                        -0.1638, -0.1485,  0.1437, -0.1544, -0.1399, -0.1491,  0.1563, -0.1537,\n",
       "                         0.1474, -0.1440, -0.1366,  0.1641,  0.1298,  0.1360, -0.1486,  0.1504,\n",
       "                        -0.1543,  0.1368, -0.1535,  0.1524,  0.1298,  0.1367,  0.1428, -0.1389,\n",
       "                         0.1382,  0.1548,  0.1441, -0.1684,  0.1416,  0.1309, -0.1606, -0.1571,\n",
       "                         0.1538, -0.1520, -0.1413, -0.1527,  0.1395, -0.1542,  0.1654, -0.1707,\n",
       "                        -0.1695, -0.1460, -0.1863, -0.1628, -0.1834,  0.1314, -0.1427, -0.1588,\n",
       "                        -0.1701,  0.1432, -0.1570, -0.1420, -0.1696,  0.1344, -0.1741, -0.1633,\n",
       "                        -0.1508, -0.1695,  0.1330, -0.1580, -0.1529, -0.1518,  0.1433, -0.1491,\n",
       "                        -0.1639,  0.1363, -0.1444, -0.1461, -0.1511, -0.1425,  0.1718, -0.1559,\n",
       "                        -0.1404,  0.1438, -0.1646,  0.1724, -0.1443, -0.1476, -0.1493, -0.1685,\n",
       "                        -0.1549,  0.1397,  0.1472, -0.1457,  0.1628, -0.1409, -0.1544, -0.1802,\n",
       "                        -0.1665,  0.1509,  0.1389,  0.1400, -0.1661, -0.1519, -0.1643,  0.1446,\n",
       "                        -0.1391,  0.1472,  0.1461, -0.1499, -0.1470, -0.1564, -0.1734,  0.1382,\n",
       "                         0.1567,  0.1426,  0.1476, -0.1389,  0.1462,  0.1458,  0.1417,  0.1362,\n",
       "                        -0.1431, -0.1441, -0.1415,  0.1300,  0.1493, -0.1652,  0.1326, -0.1606,\n",
       "                        -0.1463, -0.1422, -0.1549, -0.2082,  0.1385, -0.1500,  0.1454, -0.1451,\n",
       "                         0.1569,  0.1546,  0.1446, -0.1499, -0.1543,  0.1395,  0.1329,  0.1544,\n",
       "                        -0.1475, -0.1508, -0.1389,  0.1520,  0.1614,  0.1439, -0.1550, -0.1569,\n",
       "                         0.1590,  0.1575,  0.1341, -0.1364, -0.1401, -0.1678, -0.1478, -0.1524,\n",
       "                        -0.1651, -0.1706, -0.1374,  0.1535]])),\n",
       "              ('fc3.bias', tensor([0.0343]))]),\n",
       " 'XY_optimizer': {'state': {5067355696: {'step': 80000,\n",
       "    'exp_avg': tensor([[ 1.2469, -1.1677,  0.9910,  ..., -0.9114, -0.5671,  0.3894],\n",
       "            [ 1.3791, -1.3654,  0.9435,  ..., -0.9839, -0.6622,  0.2941],\n",
       "            [ 1.3730, -1.3837,  1.1064,  ..., -0.9550, -0.5501,  0.4941],\n",
       "            ...,\n",
       "            [ 1.2012, -1.2726,  1.1069,  ..., -0.9851, -0.6232,  0.3794],\n",
       "            [ 1.4155, -1.3323,  1.2064,  ..., -0.9960, -0.6236,  0.4852],\n",
       "            [-0.3925,  0.4393, -0.4002,  ...,  0.3474,  0.1903, -0.1595]]),\n",
       "    'exp_avg_sq': tensor([[5.1524, 5.4128, 5.8873,  ..., 5.1982, 4.6809, 6.4550],\n",
       "            [5.6567, 5.9161, 6.3161,  ..., 5.7102, 4.8612, 6.8441],\n",
       "            [5.5624, 5.7106, 6.2828,  ..., 5.4213, 4.6284, 6.7309],\n",
       "            ...,\n",
       "            [6.0958, 6.2967, 7.0430,  ..., 6.1938, 5.2493, 7.3638],\n",
       "            [5.9714, 6.2193, 6.8953,  ..., 5.6796, 5.1175, 7.3214],\n",
       "            [0.7376, 0.7501, 0.8572,  ..., 0.7438, 0.6262, 0.8864]])},\n",
       "   5067355336: {'step': 80000,\n",
       "    'exp_avg': tensor([-1.0605, -1.1337, -1.1885,  0.4019, -1.0919, -1.1414,  0.3335, -1.1084,\n",
       "             0.6194,  0.4311,  0.3544, -1.2145, -1.0686,  0.4725, -1.0287,  0.4776,\n",
       "            -1.0329,  0.3589,  0.5502, -1.0428, -1.2292, -1.2842,  0.5084,  0.2761,\n",
       "             0.3603, -1.0506, -1.1657, -0.9742,  0.3239, -1.1844,  0.3572, -1.1130,\n",
       "            -1.1209,  0.4260, -1.1475, -1.0454, -1.1888, -0.9564, -1.1702, -1.1474,\n",
       "            -1.1072, -1.1021, -1.0962,  0.4670, -1.0717, -1.2346,  0.4615, -1.0891,\n",
       "             0.5168,  0.4272,  0.3578,  0.3894,  0.3193, -1.0654,  0.4302, -1.1758,\n",
       "            -1.0573,  0.4266, -1.1374, -1.1721,  0.4908, -1.1009,  0.3497,  0.4795,\n",
       "            -1.1516, -1.0666, -1.1730, -0.9890, -1.1426, -1.1137, -1.1244, -1.1688,\n",
       "            -1.0951, -0.9173,  0.4000, -1.1417, -0.9922, -1.1974, -1.1710,  0.3656,\n",
       "            -1.2550, -1.3140, -1.2552,  0.4358,  0.4780, -1.0927, -0.9768, -1.1750,\n",
       "             0.3277, -1.1881,  0.4209, -1.2159, -1.0717,  0.3506, -1.0955, -1.0674,\n",
       "             0.4650,  0.5127, -1.1671,  0.3934,  0.5340,  0.4765,  0.3697, -1.1185,\n",
       "            -1.1886, -1.1779,  0.4078, -1.1355, -1.0411,  0.2978,  0.4746, -1.2142,\n",
       "             0.3191,  0.5544, -1.1620, -1.2427, -1.0798, -1.2388, -1.1763, -0.9409,\n",
       "             0.4524,  0.6203, -1.0355,  0.2809,  0.4340, -1.1179, -1.0886,  0.3448,\n",
       "            -1.2291, -1.1803,  0.3927,  0.3974, -1.1162, -0.9998,  0.3689, -1.1145,\n",
       "            -0.9853, -1.0275,  0.4095,  0.5356,  0.3085, -1.0648, -1.0329, -0.9666,\n",
       "            -1.1255, -1.1387, -1.1227, -1.1266,  0.4428, -1.2673,  0.3368, -1.0570,\n",
       "            -0.8305, -1.1994,  0.3789,  0.4826, -1.1857, -1.1034, -1.0909,  0.2974,\n",
       "             0.5548,  0.4339,  0.3513, -0.9801,  0.3776,  0.4146,  0.3533, -1.0510,\n",
       "            -1.1638,  0.2837, -1.1521, -1.0520,  0.3472,  0.4650,  0.4564, -1.1620,\n",
       "            -1.2338, -1.1103,  0.5102,  0.4840,  0.3393, -1.0936,  0.4420,  0.4814,\n",
       "             0.4117, -1.1780,  0.4311,  0.3554,  0.5332,  0.4734,  0.4910,  0.3818,\n",
       "             0.4665, -1.1816,  0.4257,  0.3672,  0.4723,  0.3105, -1.2066,  0.3264,\n",
       "            -1.2082,  0.5337, -1.0942, -1.2458, -1.0769,  0.4199, -1.2023,  0.4202,\n",
       "             0.2811, -1.3543, -1.1774,  0.2561, -1.2256,  0.4831,  0.4685, -1.0386,\n",
       "             0.3397, -1.0502, -1.2113,  0.3843, -1.1340, -0.9119,  0.3779, -1.1769,\n",
       "            -1.0425, -1.1538,  0.4957,  0.2791, -1.0644,  0.4355, -1.1460,  0.5162,\n",
       "            -1.0921, -1.1257,  0.4254, -1.1210, -1.0617, -0.8802, -1.0221,  0.4751,\n",
       "             0.4203, -1.2438,  0.3203, -0.8443, -1.3088,  0.5442,  0.4288,  0.3786,\n",
       "             0.3776, -0.9128, -1.0915,  0.2591, -1.0945,  0.3524,  0.4560, -1.1344,\n",
       "             0.4724, -1.2018, -1.0855,  0.5532,  0.3039, -1.1823, -1.1350, -1.1394,\n",
       "            -1.1400, -1.1792, -1.1507, -1.1014,  0.3665, -1.1497,  0.2697,  0.4131,\n",
       "            -1.0494, -1.1208, -1.1430, -1.0468,  0.4958, -1.1177, -1.0981, -1.0049,\n",
       "            -1.0350,  0.4864, -0.9886,  0.4755, -1.3298,  0.4758, -0.9984, -1.0732,\n",
       "             0.3528, -1.2362,  0.4612,  0.4224,  0.4248, -1.0459,  0.4787,  0.4178,\n",
       "            -0.7280, -1.0808, -1.2158,  0.3831]),\n",
       "    'exp_avg_sq': tensor([4.0390, 4.3267, 4.2343, 0.6893, 3.9170, 4.0890, 0.5788, 4.3488, 0.8649,\n",
       "            0.7037, 0.5285, 4.5595, 4.0626, 0.7483, 4.0013, 0.6119, 4.2710, 0.7641,\n",
       "            0.7536, 3.5974, 4.7670, 5.0715, 0.7921, 0.4136, 0.7567, 4.5239, 3.8289,\n",
       "            4.0066, 0.5231, 5.1824, 0.5208, 4.1985, 4.6162, 0.5894, 4.0460, 4.4850,\n",
       "            4.4225, 3.8249, 5.1271, 4.4565, 3.8804, 4.7161, 4.2538, 0.8043, 4.6518,\n",
       "            4.6525, 0.5359, 4.2157, 0.7678, 0.4869, 0.4077, 0.3743, 0.2791, 4.1597,\n",
       "            0.5010, 4.6874, 3.4602, 0.5715, 4.3645, 4.9608, 0.7504, 4.2823, 0.4860,\n",
       "            0.6675, 4.6404, 4.2722, 4.2748, 4.0854, 4.7013, 3.7889, 4.4046, 4.4391,\n",
       "            4.5330, 3.0660, 0.4815, 4.0996, 3.8030, 4.3773, 4.8306, 0.4087, 5.1317,\n",
       "            5.1997, 5.4020, 0.4655, 0.6600, 4.5288, 4.0007, 4.3440, 0.6648, 4.6473,\n",
       "            0.7962, 3.9992, 4.1785, 0.5145, 3.6784, 3.4371, 0.6166, 0.8174, 4.6348,\n",
       "            0.3844, 0.8124, 0.6264, 0.4623, 4.6943, 4.3558, 4.7188, 0.6291, 4.4152,\n",
       "            3.8142, 0.7133, 0.5876, 4.4209, 0.5069, 0.8216, 4.5098, 5.0279, 3.5714,\n",
       "            4.7453, 4.7847, 3.5997, 0.5595, 0.7632, 3.8109, 0.4360, 0.8545, 3.9339,\n",
       "            4.3505, 0.4799, 5.1976, 4.1937, 0.6283, 0.5870, 4.5065, 3.6416, 0.4059,\n",
       "            4.5691, 3.2956, 3.9446, 0.7855, 0.6862, 0.4699, 3.7763, 4.2703, 3.1826,\n",
       "            4.3552, 4.3818, 4.1226, 4.0273, 0.5334, 4.8184, 0.5318, 3.9945, 3.3610,\n",
       "            5.4932, 0.4738, 0.6561, 4.6180, 3.9727, 4.7143, 0.4323, 0.7259, 0.5533,\n",
       "            0.6514, 3.9432, 0.4285, 0.4880, 0.5879, 4.0583, 4.7687, 0.4997, 4.8576,\n",
       "            4.0192, 0.3946, 0.6790, 0.5760, 4.9145, 4.4734, 5.1161, 0.8345, 0.5885,\n",
       "            0.3881, 4.2431, 0.7451, 0.7320, 0.5544, 4.6149, 0.6011, 0.5256, 0.8029,\n",
       "            0.7185, 0.6865, 0.5023, 0.5111, 3.6151, 0.6310, 0.4610, 0.7077, 0.4118,\n",
       "            4.1341, 0.3794, 5.1431, 0.7421, 3.7276, 4.9457, 3.5374, 0.5360, 4.8914,\n",
       "            0.5051, 0.4391, 5.5433, 4.6105, 0.5240, 4.9493, 0.8070, 0.9309, 3.9683,\n",
       "            0.5017, 4.7201, 4.6051, 0.5481, 4.4746, 2.9496, 0.5788, 4.8651, 3.8217,\n",
       "            3.9758, 0.6521, 0.6234, 3.8310, 0.4767, 3.9530, 0.7095, 4.4386, 3.8831,\n",
       "            0.6087, 4.2983, 4.5250, 3.1738, 3.8714, 0.5816, 0.5143, 5.2031, 0.3668,\n",
       "            3.3208, 5.7793, 0.9285, 0.5896, 0.8706, 0.5512, 2.5698, 4.1184, 0.5325,\n",
       "            4.3723, 0.7193, 0.7614, 3.8623, 0.8203, 4.2055, 3.6397, 0.8058, 0.3647,\n",
       "            4.2256, 3.7408, 3.8289, 4.1843, 4.5037, 4.8168, 4.1824, 0.5591, 3.9048,\n",
       "            0.4080, 0.5155, 4.2910, 3.8491, 4.3560, 3.8950, 0.6732, 4.2489, 4.0766,\n",
       "            3.4209, 3.8170, 0.5129, 3.9272, 0.6538, 5.2224, 0.6440, 3.7384, 4.0417,\n",
       "            0.5255, 5.2969, 0.5897, 0.6474, 0.5267, 4.2375, 0.6049, 0.6600, 1.8828,\n",
       "            4.6730, 4.5603, 0.5782])},\n",
       "   5067354544: {'step': 80000,\n",
       "    'exp_avg': tensor([[ 2.7341e-03,  1.4973e-03, -1.8285e-04,  ...,  3.1866e-03,\n",
       "              8.5183e-04,  1.2434e-03],\n",
       "            [ 3.1220e-03,  2.0540e-03, -4.0745e-04,  ...,  3.5840e-03,\n",
       "              9.0405e-04, -1.3514e-04],\n",
       "            [-8.7651e-03, -5.2199e-03,  1.1613e-03,  ..., -9.9337e-03,\n",
       "             -2.2539e-03, -1.3706e-04],\n",
       "            ...,\n",
       "            [ 3.2168e-03,  1.6696e-03, -3.4180e-05,  ...,  3.4572e-03,\n",
       "              9.8096e-04,  6.9330e-04],\n",
       "            [ 2.2208e-03,  1.2205e-03, -1.6324e-04,  ...,  2.5595e-03,\n",
       "              5.0430e-04,  7.0435e-04],\n",
       "            [-8.8685e-03, -5.2815e-03,  1.1750e-03,  ..., -1.0051e-02,\n",
       "             -2.2805e-03, -1.3872e-04]]),\n",
       "    'exp_avg_sq': tensor([[4.3841e-05, 3.9813e-05, 3.9088e-05,  ..., 2.5731e-05, 3.9837e-05,\n",
       "             3.3075e-04],\n",
       "            [4.7986e-05, 4.8524e-05, 4.2743e-05,  ..., 2.9535e-05, 4.4356e-05,\n",
       "             3.9920e-04],\n",
       "            [3.7692e-04, 3.7231e-04, 3.3729e-04,  ..., 2.2989e-04, 3.5131e-04,\n",
       "             3.1046e-03],\n",
       "            ...,\n",
       "            [4.9954e-05, 4.5060e-05, 4.1828e-05,  ..., 2.8360e-05, 4.5785e-05,\n",
       "             3.8237e-04],\n",
       "            [2.8101e-05, 2.5932e-05, 2.4727e-05,  ..., 1.6394e-05, 2.6203e-05,\n",
       "             2.1936e-04],\n",
       "            [3.8588e-04, 3.8116e-04, 3.4531e-04,  ..., 2.3535e-04, 3.5966e-04,\n",
       "             3.1784e-03]])},\n",
       "   5067356344: {'step': 80000,\n",
       "    'exp_avg': tensor([-0.0248, -0.0284,  0.0767, -0.0214,  0.0745, -0.0215, -0.0279, -0.0229,\n",
       "            -0.0213,  0.0680,  0.0719,  0.0711,  0.0712, -0.0237, -0.0249,  0.0734,\n",
       "            -0.0295, -0.0222,  0.0719, -0.0237,  0.0687, -0.0213, -0.0208, -0.0233,\n",
       "            -0.0215,  0.0883, -0.0246, -0.0238,  0.0665, -0.0216,  0.0696,  0.0841,\n",
       "             0.0660, -0.0191, -0.0281,  0.0893, -0.0259,  0.0701,  0.0746, -0.0232,\n",
       "             0.0742,  0.0678, -0.0261,  0.0692,  0.0766,  0.0662,  0.0764, -0.0228,\n",
       "             0.0698, -0.0219,  0.0864,  0.0760, -0.0246, -0.0219,  0.0738,  0.0767,\n",
       "            -0.0277, -0.0253,  0.0846, -0.0294,  0.0732, -0.0288, -0.0219, -0.0250,\n",
       "             0.0718, -0.0200,  0.0725, -0.0224, -0.0279,  0.0697,  0.0655,  0.0716,\n",
       "            -0.0205,  0.0724,  0.0724,  0.0707, -0.0227, -0.0255, -0.0204, -0.0179,\n",
       "            -0.0195,  0.0719,  0.0775,  0.0865,  0.0833, -0.0221,  0.0839,  0.0703,\n",
       "             0.0665, -0.0227, -0.0260,  0.0670,  0.0715,  0.0757, -0.0249,  0.0719,\n",
       "             0.0877, -0.0214,  0.0666, -0.0276,  0.0774, -0.0255, -0.0287,  0.0666,\n",
       "             0.0692,  0.0713, -0.0314, -0.0248,  0.0757,  0.0695, -0.0237, -0.0248,\n",
       "            -0.0236, -0.0247, -0.0240, -0.0202,  0.0735, -0.0262, -0.0226, -0.0286,\n",
       "            -0.0214,  0.0721, -0.0285, -0.0217, -0.0220, -0.0237, -0.0288, -0.0243,\n",
       "            -0.0272, -0.0285, -0.0233, -0.0254, -0.0256, -0.0185, -0.0229, -0.0241,\n",
       "            -0.0218,  0.0700,  0.0676, -0.0305, -0.0217, -0.0215,  0.0713,  0.0704,\n",
       "            -0.0271, -0.0207,  0.0726, -0.0245, -0.0202, -0.0228,  0.0790, -0.0219,\n",
       "             0.0745, -0.0191, -0.0212,  0.0829,  0.0656,  0.0687, -0.0236,  0.0760,\n",
       "            -0.0227,  0.0691, -0.0230,  0.0770,  0.0656,  0.0691,  0.0722, -0.0189,\n",
       "             0.0698,  0.0782,  0.0728, -0.0271,  0.0715,  0.0661, -0.0265, -0.0244,\n",
       "             0.0777, -0.0215, -0.0218, -0.0240,  0.0705, -0.0228,  0.0836, -0.0273,\n",
       "            -0.0258, -0.0244, -0.0286, -0.0261, -0.0327,  0.0664, -0.0192, -0.0229,\n",
       "            -0.0268,  0.0724, -0.0245, -0.0200, -0.0286,  0.0679, -0.0277, -0.0270,\n",
       "            -0.0242, -0.0254,  0.0672, -0.0247, -0.0224, -0.0227,  0.0724, -0.0230,\n",
       "            -0.0256,  0.0689, -0.0209, -0.0248, -0.0233, -0.0213,  0.0868, -0.0232,\n",
       "            -0.0197,  0.0727, -0.0249,  0.0871, -0.0229, -0.0223, -0.0216, -0.0246,\n",
       "            -0.0223,  0.0706,  0.0744, -0.0237,  0.0823, -0.0202, -0.0249, -0.0281,\n",
       "            -0.0232,  0.0762,  0.0702,  0.0707, -0.0248, -0.0237, -0.0260,  0.0731,\n",
       "            -0.0196,  0.0744,  0.0738, -0.0246, -0.0208, -0.0245, -0.0246,  0.0698,\n",
       "             0.0792,  0.0721,  0.0746, -0.0211,  0.0739,  0.0737,  0.0716,  0.0688,\n",
       "            -0.0220, -0.0219, -0.0186,  0.0657,  0.0755, -0.0242,  0.0670, -0.0233,\n",
       "            -0.0220, -0.0217, -0.0247, -0.0327,  0.0700, -0.0240,  0.0735, -0.0218,\n",
       "             0.0793,  0.0781,  0.0730, -0.0225, -0.0234,  0.0705,  0.0671,  0.0780,\n",
       "            -0.0216, -0.0237, -0.0184,  0.0768,  0.0815,  0.0727, -0.0238, -0.0228,\n",
       "             0.0803,  0.0796,  0.0678, -0.0189, -0.0194, -0.0241, -0.0241, -0.0257,\n",
       "            -0.0272, -0.0275, -0.0191,  0.0776]),\n",
       "    'exp_avg_sq': tensor([0.0022, 0.0026, 0.0204, 0.0017, 0.0193, 0.0016, 0.0022, 0.0019, 0.0019,\n",
       "            0.0161, 0.0180, 0.0176, 0.0176, 0.0020, 0.0021, 0.0188, 0.0025, 0.0017,\n",
       "            0.0180, 0.0018, 0.0164, 0.0017, 0.0016, 0.0022, 0.0018, 0.0272, 0.0018,\n",
       "            0.0018, 0.0154, 0.0016, 0.0168, 0.0246, 0.0152, 0.0016, 0.0024, 0.0278,\n",
       "            0.0023, 0.0171, 0.0194, 0.0020, 0.0192, 0.0160, 0.0026, 0.0167, 0.0204,\n",
       "            0.0152, 0.0203, 0.0017, 0.0169, 0.0018, 0.0260, 0.0201, 0.0018, 0.0018,\n",
       "            0.0190, 0.0205, 0.0022, 0.0020, 0.0249, 0.0027, 0.0186, 0.0030, 0.0016,\n",
       "            0.0023, 0.0179, 0.0015, 0.0183, 0.0016, 0.0024, 0.0169, 0.0149, 0.0178,\n",
       "            0.0016, 0.0182, 0.0182, 0.0174, 0.0018, 0.0025, 0.0015, 0.0014, 0.0015,\n",
       "            0.0180, 0.0209, 0.0260, 0.0242, 0.0018, 0.0245, 0.0172, 0.0154, 0.0018,\n",
       "            0.0021, 0.0156, 0.0178, 0.0200, 0.0021, 0.0180, 0.0268, 0.0017, 0.0154,\n",
       "            0.0024, 0.0208, 0.0018, 0.0030, 0.0154, 0.0166, 0.0177, 0.0027, 0.0018,\n",
       "            0.0200, 0.0168, 0.0021, 0.0021, 0.0020, 0.0021, 0.0020, 0.0016, 0.0188,\n",
       "            0.0022, 0.0019, 0.0034, 0.0016, 0.0181, 0.0024, 0.0017, 0.0019, 0.0019,\n",
       "            0.0028, 0.0022, 0.0023, 0.0032, 0.0021, 0.0027, 0.0023, 0.0014, 0.0018,\n",
       "            0.0022, 0.0018, 0.0170, 0.0159, 0.0032, 0.0019, 0.0015, 0.0177, 0.0172,\n",
       "            0.0022, 0.0018, 0.0183, 0.0021, 0.0014, 0.0019, 0.0217, 0.0021, 0.0193,\n",
       "            0.0017, 0.0014, 0.0239, 0.0149, 0.0164, 0.0018, 0.0201, 0.0019, 0.0166,\n",
       "            0.0020, 0.0206, 0.0149, 0.0166, 0.0181, 0.0014, 0.0169, 0.0213, 0.0184,\n",
       "            0.0025, 0.0178, 0.0152, 0.0023, 0.0022, 0.0210, 0.0019, 0.0017, 0.0020,\n",
       "            0.0173, 0.0020, 0.0243, 0.0026, 0.0027, 0.0018, 0.0029, 0.0024, 0.0031,\n",
       "            0.0153, 0.0015, 0.0022, 0.0023, 0.0182, 0.0022, 0.0016, 0.0026, 0.0160,\n",
       "            0.0026, 0.0024, 0.0020, 0.0024, 0.0157, 0.0022, 0.0019, 0.0019, 0.0182,\n",
       "            0.0018, 0.0022, 0.0165, 0.0018, 0.0018, 0.0020, 0.0016, 0.0263, 0.0021,\n",
       "            0.0016, 0.0184, 0.0023, 0.0264, 0.0017, 0.0017, 0.0018, 0.0023, 0.0020,\n",
       "            0.0173, 0.0192, 0.0018, 0.0236, 0.0015, 0.0020, 0.0028, 0.0023, 0.0202,\n",
       "            0.0171, 0.0174, 0.0024, 0.0019, 0.0024, 0.0186, 0.0015, 0.0192, 0.0190,\n",
       "            0.0020, 0.0017, 0.0021, 0.0026, 0.0170, 0.0218, 0.0181, 0.0193, 0.0015,\n",
       "            0.0190, 0.0189, 0.0178, 0.0165, 0.0016, 0.0017, 0.0015, 0.0150, 0.0198,\n",
       "            0.0023, 0.0156, 0.0022, 0.0017, 0.0016, 0.0020, 0.0037, 0.0170, 0.0019,\n",
       "            0.0188, 0.0017, 0.0219, 0.0212, 0.0186, 0.0020, 0.0020, 0.0173, 0.0157,\n",
       "            0.0212, 0.0018, 0.0019, 0.0015, 0.0205, 0.0232, 0.0184, 0.0021, 0.0021,\n",
       "            0.0225, 0.0221, 0.0160, 0.0014, 0.0015, 0.0024, 0.0018, 0.0021, 0.0026,\n",
       "            0.0026, 0.0015, 0.0209])},\n",
       "   5067356128: {'step': 80000,\n",
       "    'exp_avg': tensor([[-0.3474, -0.3396,  0.6286, -0.3570,  0.6102, -0.3541, -0.3311, -0.3521,\n",
       "             -0.3528,  0.7096,  0.6808,  0.6279,  0.7115, -0.3503, -0.3506,  0.6828,\n",
       "             -0.3337, -0.3518,  0.6679, -0.3436,  0.6650, -0.3547, -0.3600, -0.3620,\n",
       "             -0.3583,  0.6281, -0.3392, -0.3456,  0.7278, -0.3523,  0.6521,  0.6150,\n",
       "              0.7263, -0.3716, -0.3365,  0.6575, -0.3455,  0.6805,  0.6413, -0.3592,\n",
       "              0.6279,  0.6791, -0.3507,  0.6034,  0.6655,  0.7566,  0.6886, -0.3466,\n",
       "              0.6405, -0.3573,  0.6586,  0.6525, -0.3360, -0.3574,  0.6628,  0.6066,\n",
       "             -0.3309, -0.3405,  0.6390, -0.3362,  0.6765, -0.3519, -0.3491, -0.3514,\n",
       "              0.6803, -0.3639,  0.6606, -0.3528, -0.3397,  0.6867,  0.7291,  0.6793,\n",
       "             -0.3603,  0.6517,  0.6753,  0.6538, -0.3567, -0.3554, -0.3615, -0.3751,\n",
       "             -0.3659,  0.6675,  0.6025,  0.6046,  0.6177, -0.3565,  0.6685,  0.6103,\n",
       "              0.6767, -0.3556, -0.3429,  0.6520,  0.6087,  0.6735, -0.3482,  0.6289,\n",
       "              0.6309, -0.3597,  0.7392, -0.3384,  0.6634, -0.3320, -0.3511,  0.6353,\n",
       "              0.7089,  0.6883, -0.3275, -0.3387,  0.6727,  0.6836, -0.3524, -0.3476,\n",
       "             -0.3496, -0.3486, -0.3501, -0.3629,  0.6704, -0.3403, -0.3539, -0.3635,\n",
       "             -0.3563,  0.7050, -0.3320, -0.3544, -0.3576, -0.3480, -0.3419, -0.3527,\n",
       "             -0.3378, -0.3542, -0.3568, -0.3559, -0.3498, -0.3728, -0.3529, -0.3574,\n",
       "             -0.3561,  0.6532,  0.6726, -0.3465, -0.3629, -0.3516,  0.6506,  0.6633,\n",
       "             -0.3397, -0.3658,  0.6267, -0.3468, -0.3608, -0.3523,  0.6325, -0.3627,\n",
       "              0.6378, -0.3728, -0.3498,  0.5816,  0.6617,  0.6981, -0.3467,  0.6741,\n",
       "             -0.3580,  0.6542, -0.3552,  0.6547,  0.6774,  0.6850,  0.7317, -0.3695,\n",
       "              0.6543,  0.6734,  0.6417, -0.3443,  0.6423,  0.7011, -0.3403, -0.3498,\n",
       "              0.6602, -0.3640, -0.3507, -0.3483,  0.6639, -0.3576,  0.5856, -0.3454,\n",
       "             -0.3531, -0.3382, -0.3519, -0.3450, -0.3272,  0.6361, -0.3707, -0.3610,\n",
       "             -0.3477,  0.6727, -0.3495, -0.3643, -0.3365,  0.6318, -0.3463, -0.3398,\n",
       "             -0.3448, -0.3553,  0.6296, -0.3488, -0.3590, -0.3553,  0.7031, -0.3506,\n",
       "             -0.3488,  0.6588, -0.3605, -0.3353, -0.3513, -0.3557,  0.6692, -0.3563,\n",
       "             -0.3646,  0.6142, -0.3537,  0.6167, -0.3463, -0.3540, -0.3609, -0.3593,\n",
       "             -0.3610,  0.6850,  0.6660, -0.3429,  0.6130, -0.3620, -0.3437, -0.3495,\n",
       "             -0.3659,  0.6196,  0.6573,  0.6654, -0.3560, -0.3495, -0.3472,  0.6839,\n",
       "             -0.3642,  0.6722,  0.6789, -0.3408, -0.3637, -0.3485, -0.3635,  0.6721,\n",
       "              0.7026,  0.5990,  0.6431, -0.3536,  0.6685,  0.6210,  0.6673,  0.6802,\n",
       "             -0.3517, -0.3535, -0.3736,  0.7259,  0.7001, -0.3588,  0.6313, -0.3604,\n",
       "             -0.3549, -0.3527, -0.3457, -0.3482,  0.6457, -0.3455,  0.6551, -0.3553,\n",
       "              0.6340,  0.6347,  0.6795, -0.3553, -0.3539,  0.6273,  0.6902,  0.6840,\n",
       "             -0.3590, -0.3482, -0.3730,  0.6136,  0.6457,  0.6617, -0.3519, -0.3602,\n",
       "              0.6895,  0.6361,  0.7124, -0.3670, -0.3665, -0.3614, -0.3425, -0.3365,\n",
       "             -0.3404, -0.3438, -0.3663,  0.6432]]),\n",
       "    'exp_avg_sq': tensor([[0.4183, 0.4241, 1.5934, 0.4427, 1.6040, 0.4445, 0.4330, 0.4347, 0.4141,\n",
       "             1.7197, 1.6300, 1.6202, 1.6247, 0.4316, 0.4381, 1.6507, 0.4305, 0.4398,\n",
       "             1.6413, 0.4341, 1.6334, 0.4368, 0.4452, 0.4329, 0.4322, 1.6109, 0.4366,\n",
       "             0.4402, 1.8686, 0.4450, 1.7082, 1.4316, 1.7177, 0.4450, 0.4264, 1.5848,\n",
       "             0.4293, 1.6394, 1.6557, 0.4416, 1.5482, 1.7235, 0.4177, 1.7174, 1.6718,\n",
       "             1.8158, 1.5506, 0.4429, 1.6713, 0.4358, 1.5888, 1.5786, 0.4352, 0.4407,\n",
       "             1.6053, 1.5195, 0.4324, 0.4257, 1.5683, 0.4247, 1.5108, 0.4305, 0.4368,\n",
       "             0.4215, 1.5923, 0.4466, 1.6255, 0.4537, 0.4271, 1.6668, 1.7682, 1.6143,\n",
       "             0.4442, 1.5766, 1.6378, 1.6634, 0.4453, 0.4272, 0.4501, 0.4560, 0.4482,\n",
       "             1.6427, 1.5810, 1.5113, 1.6422, 0.4388, 1.5530, 1.6168, 1.6856, 0.4468,\n",
       "             0.4371, 1.6436, 1.5792, 1.5727, 0.4298, 1.6197, 1.5063, 0.4418, 1.8052,\n",
       "             0.4269, 1.4933, 0.4309, 0.4276, 1.7452, 1.7341, 1.6753, 0.4239, 0.4358,\n",
       "             1.6033, 1.7068, 0.4239, 0.4271, 0.4294, 0.4311, 0.4377, 0.4455, 1.6262,\n",
       "             0.4259, 0.4340, 0.4316, 0.4432, 1.5486, 0.4255, 0.4436, 0.4290, 0.4302,\n",
       "             0.4198, 0.4245, 0.4217, 0.4216, 0.4295, 0.4157, 0.4294, 0.4640, 0.4407,\n",
       "             0.4336, 0.4300, 1.7103, 1.7523, 0.4295, 0.4359, 0.4445, 1.5729, 1.6085,\n",
       "             0.4371, 0.4385, 1.6728, 0.4204, 0.4571, 0.4346, 1.5851, 0.4240, 1.5407,\n",
       "             0.4398, 0.4604, 1.5484, 1.7198, 1.7437, 0.4379, 1.6083, 0.4367, 1.6566,\n",
       "             0.4309, 1.6008, 1.7829, 1.6342, 1.6100, 0.4645, 1.6618, 1.5869, 1.5403,\n",
       "             0.4254, 1.5982, 1.6881, 0.4237, 0.4226, 1.6546, 0.4333, 0.4344, 0.4283,\n",
       "             1.6784, 0.4279, 1.5603, 0.4234, 0.4197, 0.4345, 0.4325, 0.4190, 0.4197,\n",
       "             1.7680, 0.4519, 0.4243, 0.4404, 1.6211, 0.4213, 0.4410, 0.4210, 1.6024,\n",
       "             0.4305, 0.4231, 0.4254, 0.4388, 1.7031, 0.4257, 0.4347, 0.4365, 1.7203,\n",
       "             0.4356, 0.4339, 1.6023, 0.4277, 0.4345, 0.4283, 0.4394, 1.5403, 0.4256,\n",
       "             0.4435, 1.6018, 0.4282, 1.5304, 0.4344, 0.4433, 0.4390, 0.4370, 0.4342,\n",
       "             1.5362, 1.5674, 0.4312, 1.5491, 0.4550, 0.4291, 0.4275, 0.4348, 1.6203,\n",
       "             1.6439, 1.6625, 0.4274, 0.4390, 0.4189, 1.5516, 0.4505, 1.5209, 1.6687,\n",
       "             0.4214, 0.4444, 0.4273, 0.4257, 1.6569, 1.5834, 1.5149, 1.5655, 0.4496,\n",
       "             1.6345, 1.5549, 1.7153, 1.7065, 0.4400, 0.4370, 0.4522, 1.7295, 1.6193,\n",
       "             0.4308, 1.6718, 0.4295, 0.4472, 0.4417, 0.4314, 0.4285, 1.7211, 0.4312,\n",
       "             1.6290, 0.4439, 1.5315, 1.5872, 1.6664, 0.4224, 0.4321, 1.6162, 1.7709,\n",
       "             1.6430, 0.4327, 0.4365, 0.4450, 1.6063, 1.5428, 1.6444, 0.4285, 0.4318,\n",
       "             1.6295, 1.5366, 1.6369, 0.4582, 0.4544, 0.4282, 0.4377, 0.4200, 0.4053,\n",
       "             0.4205, 0.4469, 1.5818]])},\n",
       "   5067356632: {'step': 80000,\n",
       "    'exp_avg': tensor([0.5052]),\n",
       "    'exp_avg_sq': tensor([0.8955])}},\n",
       "  'param_groups': [{'lr': 1e-05,\n",
       "    'betas': (0.9, 0.999),\n",
       "    'eps': 1e-08,\n",
       "    'weight_decay': 0,\n",
       "    'amsgrad': False,\n",
       "    'params': [5067355696,\n",
       "     5067355336,\n",
       "     5067354544,\n",
       "     5067356344,\n",
       "     5067356128,\n",
       "     5067356632]}]},\n",
       " 'X': tensor([[-1.8089, -1.5512, -0.3863,  ..., -2.7220,  0.4169,  0.7817],\n",
       "         [-1.4550,  0.1435,  1.1643,  ..., -0.6738,  1.8312, -0.6821],\n",
       "         [-1.6017, -1.0077,  1.3901,  ...,  0.0630,  0.4747,  0.4686],\n",
       "         ...,\n",
       "         [ 1.0382, -1.0898,  0.4332,  ..., -0.1587, -0.6591,  1.0167],\n",
       "         [ 0.1681,  0.5848,  0.3301,  ...,  0.4869, -2.0096, -2.3742],\n",
       "         [ 0.5995,  1.4653,  0.6317,  ...,  1.9136, -1.0286, -0.7044]]),\n",
       " 'Y': tensor([[-1.6299, -1.1997, -0.4534,  ..., -2.6979, -0.4387,  0.2725],\n",
       "         [-0.4529, -0.0315,  0.7969,  ..., -1.1071,  1.3902, -1.0073],\n",
       "         [-2.0388, -0.8265,  1.6280,  ...,  0.1506,  0.3419,  0.6178],\n",
       "         ...,\n",
       "         [ 0.6362, -0.6278,  0.6901,  ...,  0.3762, -1.4863,  0.5099],\n",
       "         [-0.3135,  1.2163,  0.6247,  ...,  0.7360, -1.8420, -1.7394],\n",
       "         [ 0.2283,  1.2256,  0.5319,  ...,  2.1316, -0.7305, -0.7520]]),\n",
       " 'lr': 1e-05,\n",
       " 'batch_size': 400,\n",
       " 'ma_rate': 0.1,\n",
       " 'ma_ef': tensor(2.3761e+16, grad_fn=<AddBackward0>)}"
      ]
     },
     "execution_count": 16,
     "metadata": {},
     "output_type": "execute_result"
    }
   ],
   "source": [
    "mine_list[0].state_dict()"
   ]
  },
  {
   "cell_type": "code",
   "execution_count": null,
   "metadata": {},
   "outputs": [],
   "source": []
  }
 ],
 "metadata": {
  "kernelspec": {
   "display_name": "Python 3",
   "language": "python",
   "name": "python3"
  },
  "language_info": {
   "codemirror_mode": {
    "name": "ipython",
    "version": 3
   },
   "file_extension": ".py",
   "mimetype": "text/x-python",
   "name": "python",
   "nbconvert_exporter": "python",
   "pygments_lexer": "ipython3",
   "version": "3.7.3"
  }
 },
 "nbformat": 4,
 "nbformat_minor": 2
}
