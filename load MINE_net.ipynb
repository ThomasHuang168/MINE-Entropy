{
 "cells": [
  {
   "cell_type": "markdown",
   "metadata": {},
   "source": [
    "# Specify Path of MINE_net to load"
   ]
  },
  {
   "cell_type": "code",
   "execution_count": 65,
   "metadata": {},
   "outputs": [
    {
     "name": "stdout",
     "output_type": "stream",
     "text": [
      "/Users/Thomas/Projects/MINE-Entropy\n"
     ]
    }
   ],
   "source": [
    "import os\n",
    "from os import path as p\n",
    "\n",
    "proj_path = p.dirname(p.abspath('MINE-Entropy'))\n",
    "print(proj_path)"
   ]
  },
  {
   "cell_type": "code",
   "execution_count": 66,
   "metadata": {},
   "outputs": [
    {
     "name": "stdout",
     "output_type": "stream",
     "text": [
      "/Users/Thomas/Projects/MINE-Entropy/minee/experiments\n"
     ]
    }
   ],
   "source": [
    "exp_path = p.join(proj_path, \"minee/experiments\")\n",
    "print(exp_path)"
   ]
  },
  {
   "cell_type": "code",
   "execution_count": 67,
   "metadata": {},
   "outputs": [
    {
     "name": "stdout",
     "output_type": "stream",
     "text": [
      "/Users/Thomas/Projects/MINE-Entropy/minee/experiments/pop=512_batch=2\n"
     ]
    }
   ],
   "source": [
    "batch_size=2\n",
    "population_size=512\n",
    "sub_path = p.join(exp_path, \"pop={}_batch={}\".format(population_size, batch_size))\n",
    "print(sub_path)"
   ]
  },
  {
   "cell_type": "code",
   "execution_count": 68,
   "metadata": {},
   "outputs": [
    {
     "name": "stdout",
     "output_type": "stream",
     "text": [
      "/Users/Thomas/Projects/MINE-Entropy/minee/experiments/pop=512_batch=2/Gaussian_rho=0.8\n"
     ]
    }
   ],
   "source": [
    "data_name=\"Gaussian\"\n",
    "vary_name=\"rho\"\n",
    "vary_val=0.8\n",
    "data_path = p.join(sub_path, \"{}_{}={}\".format(data_name, vary_name, vary_val))\n",
    "print(data_path)"
   ]
  },
  {
   "cell_type": "code",
   "execution_count": 69,
   "metadata": {},
   "outputs": [
    {
     "name": "stdout",
     "output_type": "stream",
     "text": [
      "/Users/Thomas/Projects/MINE-Entropy/minee/experiments/pop=512_batch=2/Gaussian_rho=0.8/MINE_direct\n"
     ]
    }
   ],
   "source": [
    "model_name=\"MINE_direct\"\n",
    "model_path = p.join(data_path, model_name)\n",
    "print(model_path)"
   ]
  },
  {
   "cell_type": "markdown",
   "metadata": {},
   "source": [
    "# Import minee and needed packages"
   ]
  },
  {
   "cell_type": "code",
   "execution_count": 70,
   "metadata": {},
   "outputs": [],
   "source": [
    "import minee \n",
    "import torch"
   ]
  },
  {
   "cell_type": "code",
   "execution_count": 71,
   "metadata": {},
   "outputs": [],
   "source": [
    "from minee import settings\n",
    "MINE_dir = settings.model['MINE_direct']['model']"
   ]
  },
  {
   "cell_type": "markdown",
   "metadata": {},
   "source": [
    "# Load Mine_net"
   ]
  },
  {
   "cell_type": "code",
   "execution_count": 72,
   "metadata": {},
   "outputs": [],
   "source": [
    "iter_num = 78125\n",
    "mine_file = p.join(model_path, \"checkpoint_iter={}.pt\".format(iter_num))\n",
    "MINE_dir.mine_net.load_state_dict(torch.load(mine_file))"
   ]
  },
  {
   "cell_type": "markdown",
   "metadata": {},
   "source": [
    "# Specify data parameters"
   ]
  },
  {
   "cell_type": "code",
   "execution_count": 74,
   "metadata": {},
   "outputs": [],
   "source": [
    "#Default value of datasets are shown\n",
    "#Data can also be user-specified\n",
    "def generate_dataset(selected_data):\n",
    "    if (selected_data == 'Mixed Gaussian'):\n",
    "        dataset = minee.data.mix_gaussian.MixedGaussian(sample_size=400, mean1=0, mean2=0, rho1=0.9, rho2=-0.9, mix=0.5, theta=0)\n",
    "    elif (selected_data == 'Gaussian'):\n",
    "        dataset = minee.data.gaussian.Gaussian(sample_size=200, mean1=0, mean2=1, rho=0.8)\n",
    "    elif (selected_data == 'Mixed Uniform'):\n",
    "        dataset = minee.data.mix_uniform.MixedUniform(mix=0.5, width_a=10, width_b=10, sample_size=200)\n",
    "    elif (selected_data == 'Self-Defined'):\n",
    "        pass\n",
    "        #define custom dataset, n by 2 matrix with n being number of samples\n",
    "        #can also define ground truth\n",
    "        #dataset = \n",
    "    return dataset\n",
    "gaus = generate_dataset('Gaussian')\n",
    "X = gaus.data"
   ]
  },
  {
   "cell_type": "markdown",
   "metadata": {},
   "source": [
    "# Load Train and valid mi_lb curve"
   ]
  },
  {
   "cell_type": "code",
   "execution_count": null,
   "metadata": {},
   "outputs": [],
   "source": [
    "import numpy as np\n",
    "MINE_dir.avg_train_mi_lb = np.loadtxt(p.join(model_path, \"avg_train_mi_lb.txt\"))\n",
    "MINE_dir.avg_valid_mi_lb = np.loadtxt(p.join(model_path, \"avg_valid_mi_lb.txt\"))\n",
    "# MINE_dir.avg_train_loss = np.loadtxt(p.join(model_path, \"avg_train_loss.txt\"))\n",
    "# MINE_dir.avg_test_loss = np.loadtxt(p.join(model_path, \"avg_test_loss.txt\"))"
   ]
  },
  {
   "cell_type": "markdown",
   "metadata": {},
   "source": [
    "# Generate figure"
   ]
  },
  {
   "cell_type": "code",
   "execution_count": 83,
   "metadata": {},
   "outputs": [],
   "source": [
    "from sklearn.model_selection import train_test_split\n",
    "MINE_dir.X_train, MINE_dir.X_test = train_test_split(X, test_size=0.35, random_state=0)\n",
    "MINE_dir.ground_truth = gaus.ground_truth\n",
    "mi_lb = MINE_dir.forward_pass(MINE_dir.X_test).item()\n",
    "MINE_dir.savefig(X, mi_lb, suffix=\"_test2\")"
   ]
  }
 ],
 "metadata": {
  "kernelspec": {
   "display_name": "Python 3",
   "language": "python",
   "name": "python3"
  },
  "language_info": {
   "codemirror_mode": {
    "name": "ipython",
    "version": 3
   },
   "file_extension": ".py",
   "mimetype": "text/x-python",
   "name": "python",
   "nbconvert_exporter": "python",
   "pygments_lexer": "ipython3",
   "version": "3.7.3"
  }
 },
 "nbformat": 4,
 "nbformat_minor": 2
}
