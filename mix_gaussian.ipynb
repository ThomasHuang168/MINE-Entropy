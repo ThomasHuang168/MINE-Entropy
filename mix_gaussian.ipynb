{
 "cells": [
  {
   "cell_type": "code",
   "execution_count": 42,
   "metadata": {},
   "outputs": [],
   "source": [
    "from minee.data.mix_gaussian import MixedGaussian\n",
    "import numpy as np\n",
    "import torch\n",
    "device = torch.device(\"cuda:0\" if torch.cuda.is_available() else \"cpu\")"
   ]
  },
  {
   "cell_type": "markdown",
   "metadata": {},
   "source": [
    "Ideally, generate the tensor flow vector of the data once and for all."
   ]
  },
  {
   "cell_type": "code",
   "execution_count": 311,
   "metadata": {},
   "outputs": [],
   "source": [
    "np.random.seed(0)\n",
    "n_samples = 2000\n",
    "rho1 = 0.9\n",
    "lr = 1e-3\n",
    "data = MixedGaussian(n_samples=n_samples,rho1=rho1).data\n",
    "data_t = torch.FloatTensor(data).to(device)"
   ]
  },
  {
   "cell_type": "code",
   "execution_count": 312,
   "metadata": {},
   "outputs": [],
   "source": [
    "import matplotlib as mpl\n",
    "import matplotlib.pyplot as plt\n",
    "mpl.use('Agg')"
   ]
  },
  {
   "cell_type": "code",
   "execution_count": 313,
   "metadata": {},
   "outputs": [
    {
     "data": {
      "text/plain": [
       "<matplotlib.collections.PathCollection at 0x15763b14668>"
      ]
     },
     "execution_count": 313,
     "metadata": {},
     "output_type": "execute_result"
    },
    {
     "data": {
      "image/png": "[encoded data removed]",
      "text/plain": [
       "<Figure size 432x288 with 1 Axes>"
      ]
     },
     "metadata": {
      "needs_background": "light"
     },
     "output_type": "display_data"
    }
   ],
   "source": [
    "plt.scatter(data[:,0],data[:,1])"
   ]
  },
  {
   "cell_type": "code",
   "execution_count": 314,
   "metadata": {},
   "outputs": [],
   "source": [
    "def getHeatMap(mine_net,data,grids=[50,50]):\n",
    "    Xmin = min(data[:,0])\n",
    "    Xmax = max(data[:,0])\n",
    "    Ymin = min(data[:,1])\n",
    "    Ymax = max(data[:,1])\n",
    "    x = np.linspace(Xmin, Xmax, grids[0])\n",
    "    y = np.linspace(Ymin, Ymax, grids[1])\n",
    "    xs, ys = np.meshgrid(x,y)\n",
    "    XY = np.array((xs,ys))\n",
    "    Z=np.array([mine_net(torch.FloatTensor(XY[:,i,j]).to(device)).item() \n",
    "                for j in range(ys.shape[0]) \n",
    "                for i in range(xs.shape[1])]).reshape(xs.shape[1],ys.shape[0])\n",
    "    plt.pcolormesh(xs,ys,Z,cmap='RdBu_r')"
   ]
  },
  {
   "cell_type": "code",
   "execution_count": 315,
   "metadata": {},
   "outputs": [],
   "source": [
    "def sample_marginal(data,batch_size=100):\n",
    "    joint_index = np.random.choice(range(data.shape[0]), size=batch_size, replace=True)\n",
    "    marginal_index = np.random.choice(range(data.shape[0]), size=batch_size, replace=True)\n",
    "    return np.concatenate([data[joint_index][:,0].reshape(-1,1), data[marginal_index][:,1].reshape(-1,1)], axis=1)"
   ]
  },
  {
   "cell_type": "code",
   "execution_count": 316,
   "metadata": {},
   "outputs": [],
   "source": [
    "import torch.nn as nn\n",
    "import torch.nn.functional as F"
   ]
  },
  {
   "cell_type": "code",
   "execution_count": 317,
   "metadata": {},
   "outputs": [],
   "source": [
    "sigma = .02\n",
    "class MineNet(nn.Module):\n",
    "    def __init__(self, input_size=2, hidden_size=100):\n",
    "        super().__init__()\n",
    "        self.fc1 = nn.Linear(input_size, hidden_size)\n",
    "        self.fc2 = nn.Linear(hidden_size, hidden_size)\n",
    "        self.fc3 = nn.Linear(hidden_size, 1)\n",
    "        nn.init.normal_(self.fc1.weight,std=sigma)\n",
    "        nn.init.constant_(self.fc1.bias, 0)\n",
    "        nn.init.normal_(self.fc2.weight,std=sigma)\n",
    "        nn.init.constant_(self.fc2.bias, 0)\n",
    "        nn.init.normal_(self.fc3.weight,std=sigma)\n",
    "        nn.init.constant_(self.fc3.bias, 0)\n",
    "        \n",
    "    def forward(self, input):\n",
    "        output = F.elu(self.fc1(input))\n",
    "        output = F.elu(self.fc2(output))\n",
    "        output = self.fc3(output)\n",
    "        return output"
   ]
  },
  {
   "cell_type": "code",
   "execution_count": 318,
   "metadata": {},
   "outputs": [],
   "source": [
    "from torch import optim\n",
    "# import torch.autograd as autograd"
   ]
  },
  {
   "cell_type": "code",
   "execution_count": 319,
   "metadata": {},
   "outputs": [],
   "source": [
    "mine_net = MineNet()\n",
    "mine_net.to(device)\n",
    "mine_net_optim = optim.Adam(mine_net.parameters(),lr=1e-3)"
   ]
  },
  {
   "cell_type": "code",
   "execution_count": 320,
   "metadata": {},
   "outputs": [],
   "source": [
    "from minee.model.mine import sample_batch"
   ]
  },
  {
   "cell_type": "code",
   "execution_count": 321,
   "metadata": {},
   "outputs": [],
   "source": [
    "batch_size = n_samples"
   ]
  },
  {
   "cell_type": "code",
   "execution_count": 322,
   "metadata": {},
   "outputs": [],
   "source": [
    "data_marginal = sample_batch(data,batch_size=n_samples,sample_mode='marginal')\n",
    "data_marginal_t = torch.FloatTensor(data_marginal).to(device)"
   ]
  },
  {
   "cell_type": "code",
   "execution_count": 323,
   "metadata": {},
   "outputs": [],
   "source": [
    "mi_estimate = []\n",
    "ma_rate = 0.01"
   ]
  },
  {
   "cell_type": "code",
   "execution_count": 354,
   "metadata": {},
   "outputs": [],
   "source": [
    "for j in range(1000):\n",
    "    for i in range(10):\n",
    "        mine_net_optim.zero_grad()\n",
    "        batch_data = sample_batch(data,batch_size=batch_size,sample_mode='joint')\n",
    "        batch_data_marginal = sample_batch(data,batch_size=batch_size,sample_mode='marginal')\n",
    "        #batch_data_marginal = np.random.multivariate_normal(mean=[0,0],cov=[[1,0],[0,1]],size=3000)\n",
    "        batch_data_t = torch.FloatTensor(batch_data).to(device)\n",
    "        batch_marginal_t = torch.FloatTensor(batch_data_marginal).to(device)\n",
    "        t = mine_net(batch_data_t)\n",
    "        et = torch.exp(mine_net(batch_marginal_t))\n",
    "        mi_lb = torch.mean(t) - torch.log(torch.mean(et))\n",
    "        loss = -mi_lb\n",
    "        #ma_et = (1-ma_rate)*ma_et + ma_rate*torch.mean(et)\n",
    "        #loss = -(torch.mean(t) - (1/ma_et.mean()).detach()*torch.mean(et))\n",
    "        loss.backward()\n",
    "        mine_net_optim.step()    \n",
    "    mi_estimate = np.append(mi_estimate,(torch.mean(mine_net(data_t)) - torch.log(torch.mean(torch.exp(mine_net(data_marginal_t))))).item())"
   ]
  },
  {
   "cell_type": "code",
   "execution_count": 355,
   "metadata": {},
   "outputs": [
    {
     "data": {
      "image/png": "[encoded data removed]",
      "text/plain": [
       "<Figure size 432x288 with 1 Axes>"
      ]
     },
     "metadata": {
      "needs_background": "light"
     },
     "output_type": "display_data"
    }
   ],
   "source": [
    "getHeatMap(mine_net,data,grids=[50,50])"
   ]
  },
  {
   "cell_type": "code",
   "execution_count": 356,
   "metadata": {},
   "outputs": [
    {
     "data": {
      "text/plain": [
       "[<matplotlib.lines.Line2D at 0x15763d01b38>]"
      ]
     },
     "execution_count": 356,
     "metadata": {},
     "output_type": "execute_result"
    },
    {
     "data": {
      "image/png": "[encoded data removed]",
      "text/plain": [
       "<Figure size 432x288 with 1 Axes>"
      ]
     },
     "metadata": {
      "needs_background": "light"
     },
     "output_type": "display_data"
    }
   ],
   "source": [
    "plt.plot(mi_estimate)"
   ]
  },
  {
   "cell_type": "code",
   "execution_count": null,
   "metadata": {},
   "outputs": [],
   "source": []
  }
 ],
 "metadata": {
  "kernelspec": {
   "display_name": "Python 3",
   "language": "python",
   "name": "python3"
  },
  "language_info": {
   "codemirror_mode": {
    "name": "ipython",
    "version": 3
   },
   "file_extension": ".py",
   "mimetype": "text/x-python",
   "name": "python",
   "nbconvert_exporter": "python",
   "pygments_lexer": "ipython3",
   "version": "3.7.1"
  }
 },
 "nbformat": 4,
 "nbformat_minor": 2
}
