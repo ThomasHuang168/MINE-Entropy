{
 "cells": [
  {
   "cell_type": "code",
   "execution_count": 1,
   "metadata": {},
   "outputs": [],
   "source": [
    "import numpy as np\n",
    "import pandas as pd\n",
    "import matplotlib.pyplot as plt\n",
    "import math\n",
    "from scipy.stats import randint\n",
    "import Libraries as DC\n",
    "import MINE"
   ]
  },
  {
   "cell_type": "code",
   "execution_count": 2,
   "metadata": {},
   "outputs": [],
   "source": []
  },
  {
   "cell_type": "code",
   "execution_count": null,
   "metadata": {},
   "outputs": [],
   "source": [
    "MI_MINE\n",
    "MI_knn\n",
    "MI_Reg\n",
    "\n",
    "def worker_Train_Mine_cov(input_arg):\n",
    "    cov, MINEsize = input_arg\n",
    "    MINEsize = int(MINEsize)\n",
    "    x = np.transpose(np.random.multivariate_normal( mean=[0,0],\n",
    "                                  cov=[[1,cov],[cov,1]],\n",
    "                                 size = MINEsize * 1000))\n",
    "    DE = DC.computeEnt(x, linReg, MSEscorer, varEntropy, CVFold)\n",
    "    MI = DE[1,0] + DE[0,0] - DE[0,1] - DE[1,1]\n",
    "    MI = MI/2\n",
    "    REG = MI\n",
    "    GT = -0.5*np.log(1-cov*cov)\n",
    "    mine_net = Mine()\n",
    "    mine_net_optim = optim.Adam(mine_net.parameters(), lr=1e-3)\n",
    "    mine_net,tl ,vl = train(np.transpose(x),mine_net,mine_net_optim, \\\n",
    "                            verbose=False, batch_size=MINEsize, patience=20)\n",
    "    result_ma = ma(vl)\n",
    "    MINE = result_ma[-1]\n",
    "    filename = \"MINE_Train_Fig_cov={0}_size={1}.png\".format(cov,MINEsize)\n",
    "    visualizeTrainLogAndSave(tl, vl, filename)\n",
    "    return cov, MINE, REG, GT"
   ]
  }
 ],
 "metadata": {
  "kernelspec": {
   "display_name": "Python 3",
   "language": "python",
   "name": "python3"
  },
  "language_info": {
   "codemirror_mode": {
    "name": "ipython",
    "version": 3
   },
   "file_extension": ".py",
   "mimetype": "text/x-python",
   "name": "python",
   "nbconvert_exporter": "python",
   "pygments_lexer": "ipython3",
   "version": "3.7.0"
  }
 },
 "nbformat": 4,
 "nbformat_minor": 2
}
