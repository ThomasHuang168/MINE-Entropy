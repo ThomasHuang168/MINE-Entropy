{
 "cells": [
  {
   "cell_type": "markdown",
   "metadata": {},
   "source": [
    "# Specify Path of MINE_net to load"
   ]
  },
  {
   "cell_type": "code",
   "execution_count": 26,
   "metadata": {},
   "outputs": [],
   "source": [
    "import os\n",
    "from os import path as p"
   ]
  },
  {
   "cell_type": "code",
   "execution_count": 39,
   "metadata": {},
   "outputs": [
    {
     "name": "stdout",
     "output_type": "stream",
     "text": [
      "C:\\Users\\chung\\Dropbox\\GitHub\\MINE-Entropy\n",
      "C:\\Users\\chung\\Dropbox\\GitHub\\MINE-Entropy\\minee\\experiment\n"
     ]
    }
   ],
   "source": [
    "proj_path = p.dirname(p.abspath('MINE-Entropy'))\n",
    "print(proj_path)\n",
    "exp_path = p.join(proj_path, \"minee\")\n",
    "exp_path = p.join(exp_path, \"experiment\")\n",
    "print(exp_path)"
   ]
  },
  {
   "cell_type": "code",
   "execution_count": 45,
   "metadata": {},
   "outputs": [
    {
     "name": "stdout",
     "output_type": "stream",
     "text": [
      "C:\\Users\\chung\\Dropbox\\GitHub\\MINE-Entropy\\minee\\experiment\\pop=2048_batch=128\n"
     ]
    }
   ],
   "source": [
    "batch_size=128\n",
    "population_size=2048\n",
    "sub_path = p.join(exp_path, \"pop={}_batch={}\".format(population_size, batch_size))\n",
    "print(sub_path)"
   ]
  },
  {
   "cell_type": "code",
   "execution_count": 54,
   "metadata": {},
   "outputs": [
    {
     "name": "stdout",
     "output_type": "stream",
     "text": [
      "C:\\Users\\chung\\Dropbox\\GitHub\\MINE-Entropy\\minee\\experiment\\pop=2048_batch=128\\Mixed Gaussian_rho1=0.9\n"
     ]
    }
   ],
   "source": [
    "data_name=\"Mixed Gaussian\"\n",
    "vary_name=\"rho1\"\n",
    "vary_val=0.9\n",
    "data_path = p.join(sub_path, \"{}_{}={}\".format(data_name, vary_name, vary_val))\n",
    "print(data_path)"
   ]
  },
  {
   "cell_type": "code",
   "execution_count": 55,
   "metadata": {},
   "outputs": [
    {
     "name": "stdout",
     "output_type": "stream",
     "text": [
      "C:\\Users\\chung\\Dropbox\\GitHub\\MINE-Entropy\\minee\\experiment\\pop=2048_batch=128\\Mixed Gaussian_rho1=0.9\\MINE_direct\n"
     ]
    }
   ],
   "source": [
    "model_name=\"MINE_direct\"\n",
    "model_path = p.join(data_path, model_name)\n",
    "print(model_path)"
   ]
  },
  {
   "cell_type": "code",
   "execution_count": 48,
   "metadata": {},
   "outputs": [],
   "source": [
    "# os.makedirs(model_path,exist_ok=True)"
   ]
  },
  {
   "cell_type": "markdown",
   "metadata": {},
   "source": [
    "# Import minee and needed packages"
   ]
  },
  {
   "cell_type": "code",
   "execution_count": 49,
   "metadata": {},
   "outputs": [],
   "source": [
    "import minee \n",
    "import torch"
   ]
  },
  {
   "cell_type": "code",
   "execution_count": 51,
   "metadata": {},
   "outputs": [],
   "source": [
    "from minee import settings\n",
    "MINE_dir = settings.model['MINE_direct']['model']"
   ]
  },
  {
   "cell_type": "markdown",
   "metadata": {},
   "source": [
    "# Load Mine_net"
   ]
  },
  {
   "cell_type": "code",
   "execution_count": 56,
   "metadata": {},
   "outputs": [],
   "source": [
    "iter_num = 78125\n",
    "mine_file = p.join(model_path, \"checkpoint_iter={}.pt\".format(iter_num))\n",
    "MINE_dir.mine_net.load_state_dict(torch.load(mine_file))"
   ]
  },
  {
   "cell_type": "markdown",
   "metadata": {},
   "source": [
    "# Specify data parameters"
   ]
  },
  {
   "cell_type": "code",
   "execution_count": 57,
   "metadata": {},
   "outputs": [],
   "source": [
    "#Default value of datasets are shown\n",
    "#Data can also be user-specified\n",
    "def generate_dataset(selected_data):\n",
    "    if (selected_data == 'Mixed Gaussian'):\n",
    "        dataset = minee.data.mix_gaussian.MixedGaussian(n_samples=400, mean1=0, mean2=0, rho1=0.9, rho2=-0.9, mix=0.5, theta=0)\n",
    "    elif (selected_data == 'Gaussian'):\n",
    "        dataset = minee.data.gaussian.Gaussian(n_samples=200, mean1=0, mean2=1, rho=0.8)\n",
    "    elif (selected_data == 'Mixed Uniform'):\n",
    "        dataset = minee.data.mix_uniform.MixedUniform(mix=0.5, width_a=10, width_b=10, n_samples=200)\n",
    "    elif (selected_data == 'Self-Defined'):\n",
    "        pass\n",
    "        #define custom dataset, n by 2 matrix with n being number of samples\n",
    "        #can also define ground truth\n",
    "        #dataset = \n",
    "    return dataset\n",
    "gaus = generate_dataset('Gaussian')\n",
    "X = gaus.data"
   ]
  },
  {
   "cell_type": "markdown",
   "metadata": {},
   "source": [
    "# Load Train and valid mi_lb curve"
   ]
  },
  {
   "cell_type": "code",
   "execution_count": 58,
   "metadata": {},
   "outputs": [],
   "source": [
    "import numpy as np\n",
    "MINE_dir.avg_train_mi_lb = np.loadtxt(p.join(model_path, \"avg_train_mi_lb.txt\"))\n",
    "MINE_dir.avg_valid_mi_lb = np.loadtxt(p.join(model_path, \"avg_valid_mi_lb.txt\"))\n",
    "# MINE_dir.avg_train_loss = np.loadtxt(p.join(model_path, \"avg_train_loss.txt\"))\n",
    "# MINE_dir.avg_test_loss = np.loadtxt(p.join(model_path, \"avg_test_loss.txt\"))"
   ]
  },
  {
   "cell_type": "markdown",
   "metadata": {},
   "source": [
    "# Generate figure"
   ]
  },
  {
   "cell_type": "code",
   "execution_count": 59,
   "metadata": {},
   "outputs": [],
   "source": [
    "from sklearn.model_selection import train_test_split\n",
    "MINE_dir.X_train, MINE_dir.X_test = train_test_split(X, test_size=0.35, random_state=0)\n",
    "MINE_dir.ground_truth = gaus.ground_truth\n",
    "mi_lb = MINE_dir.forward_pass(MINE_dir.X_test).item()\n",
    "MINE_dir.savefig(X, mi_lb, suffix=\"_test2\")"
   ]
  },
  {
   "cell_type": "code",
   "execution_count": null,
   "metadata": {},
   "outputs": [],
   "source": []
  }
 ],
 "metadata": {
  "kernelspec": {
   "display_name": "Python 3",
   "language": "python",
   "name": "python3"
  },
  "language_info": {
   "codemirror_mode": {
    "name": "ipython",
    "version": 3
   },
   "file_extension": ".py",
   "mimetype": "text/x-python",
   "name": "python",
   "nbconvert_exporter": "python",
   "pygments_lexer": "ipython3",
   "version": "3.7.1"
  }
 },
 "nbformat": 4,
 "nbformat_minor": 2
}
