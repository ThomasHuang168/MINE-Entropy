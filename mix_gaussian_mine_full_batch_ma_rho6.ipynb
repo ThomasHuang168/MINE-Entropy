{
 "cells": [
  {
   "cell_type": "code",
   "execution_count": 1,
   "metadata": {},
   "outputs": [],
   "source": [
    "from notebook_util_mine import *\n",
    "%matplotlib inline"
   ]
  },
  {
   "cell_type": "code",
   "execution_count": 2,
   "metadata": {},
   "outputs": [],
   "source": [
    "from minee.data.mix_gaussian import MixedGaussian"
   ]
  },
  {
   "cell_type": "markdown",
   "metadata": {},
   "source": [
    "## Data"
   ]
  },
  {
   "cell_type": "code",
   "execution_count": 3,
   "metadata": {},
   "outputs": [],
   "source": [
    "np.random.seed(0)\n",
    "sample_size = 200\n",
    "rho1 = 0.6\n",
    "data = MixedGaussian(n_samples=sample_size,rho1=rho1).data\n",
    "data_t = torch.Tensor(data)"
   ]
  },
  {
   "cell_type": "markdown",
   "metadata": {},
   "source": [
    "Separate X data and Y data for the estimation. This should be a preprocessing done before instead of after feeding the data to the model."
   ]
  },
  {
   "cell_type": "code",
   "execution_count": 4,
   "metadata": {},
   "outputs": [],
   "source": [
    "X = data[:,[0]]\n",
    "Y = data[:,[1]]"
   ]
  },
  {
   "cell_type": "code",
   "execution_count": 5,
   "metadata": {},
   "outputs": [
    {
     "data": {
      "text/plain": [
       "<matplotlib.collections.PathCollection at 0x23846b2fc88>"
      ]
     },
     "execution_count": 5,
     "metadata": {},
     "output_type": "execute_result"
    },
    {
     "data": {
      "image/png": "[encoded data removed]",
      "text/plain": [
       "<Figure size 432x288 with 1 Axes>"
      ]
     },
     "metadata": {
      "needs_background": "light"
     },
     "output_type": "display_data"
    }
   ],
   "source": [
    "plt.scatter(X,Y)"
   ]
  },
  {
   "cell_type": "markdown",
   "metadata": {},
   "source": [
    "Generate the reference samples by resampling."
   ]
  },
  {
   "cell_type": "code",
   "execution_count": 6,
   "metadata": {},
   "outputs": [],
   "source": [
    "X_ref = resample(X,batch_size=sample_size)\n",
    "Y_ref = resample(Y,batch_size=sample_size)"
   ]
  },
  {
   "cell_type": "code",
   "execution_count": 7,
   "metadata": {},
   "outputs": [
    {
     "data": {
      "text/plain": [
       "<matplotlib.legend.Legend at 0x23846cef630>"
      ]
     },
     "execution_count": 7,
     "metadata": {},
     "output_type": "execute_result"
    },
    {
     "data": {
      "image/png": "[encoded data removed]",
      "text/plain": [
       "<Figure size 432x288 with 1 Axes>"
      ]
     },
     "metadata": {
      "needs_background": "light"
     },
     "output_type": "display_data"
    }
   ],
   "source": [
    "plt.scatter(X,Y,label=\"data\",marker=\"+\",color=\"steelblue\")\n",
    "plt.scatter(X_ref,Y_ref,label=\"ref\",marker=\"_\",color=\"darkorange\")\n",
    "plt.xlabel('X')\n",
    "plt.ylabel('Y')\n",
    "plt.title('Plot of all data samples and reference samples')\n",
    "plt.legend()"
   ]
  },
  {
   "cell_type": "markdown",
   "metadata": {},
   "source": [
    "## MI estimation"
   ]
  },
  {
   "cell_type": "markdown",
   "metadata": {},
   "source": [
    "### Choice of parameters"
   ]
  },
  {
   "cell_type": "code",
   "execution_count": 8,
   "metadata": {},
   "outputs": [],
   "source": [
    "batch_size = int(sample_size*1)\n",
    "lr = 1e-3\n",
    "ma_rate = 0.1\n",
    "fname = 'mix_gaussian_mine_full_batch_ma_rho6.pt' # file to load/save the results"
   ]
  },
  {
   "cell_type": "markdown",
   "metadata": {},
   "source": [
    "### Initialization"
   ]
  },
  {
   "cell_type": "code",
   "execution_count": 9,
   "metadata": {},
   "outputs": [],
   "source": [
    "XY_t = torch.Tensor(np.concatenate((X,Y),axis=1))\n",
    "XY_ref_t = torch.Tensor(np.concatenate((X_ref,Y_ref),axis=1))\n",
    "\n",
    "XY_net = Net(input_size=X.shape[1]+Y.shape[1],hidden_size=300)\n",
    "XY_optimizer = optim.Adam(XY_net.parameters(),lr=lr)\n",
    "\n",
    "ma_ef = 1 # for moving average\n",
    "\n",
    "# For storing the results\n",
    "\n",
    "XY_net_list = []\n",
    "dXY_list = []"
   ]
  },
  {
   "cell_type": "markdown",
   "metadata": {},
   "source": [
    "### Training\n",
    "Automatically load previous results from db file if exists"
   ]
  },
  {
   "cell_type": "code",
   "execution_count": 10,
   "metadata": {},
   "outputs": [
    {
     "name": "stdout",
     "output_type": "stream",
     "text": [
      "results saved: 0\n",
      "results saved: 1\n",
      "results saved: 2\n",
      "results saved: 3\n",
      "results saved: 4\n",
      "results saved: 5\n",
      "results saved: 6\n",
      "results saved: 7\n",
      "results saved: 8\n",
      "results saved: 9\n",
      "results saved: 10\n",
      "results saved: 11\n",
      "results saved: 12\n",
      "results saved: 13\n",
      "results saved: 14\n",
      "results saved: 15\n",
      "results saved: 16\n",
      "results saved: 17\n",
      "results saved: 18\n",
      "results saved: 19\n",
      "results saved: 20\n",
      "results saved: 21\n",
      "results saved: 22\n",
      "results saved: 23\n",
      "results saved: 24\n",
      "results saved: 25\n",
      "results saved: 26\n",
      "results saved: 27\n",
      "results saved: 28\n",
      "results saved: 29\n",
      "results saved: 30\n",
      "results saved: 31\n",
      "results saved: 32\n",
      "results saved: 33\n",
      "results saved: 34\n",
      "results saved: 35\n",
      "results saved: 36\n",
      "results saved: 37\n",
      "results saved: 38\n",
      "results saved: 39\n",
      "results saved: 40\n",
      "results saved: 41\n",
      "results saved: 42\n",
      "results saved: 43\n",
      "results saved: 44\n",
      "results saved: 45\n",
      "results saved: 46\n",
      "results saved: 47\n",
      "results saved: 48\n",
      "results saved: 49\n"
     ]
    }
   ],
   "source": [
    "if os.path.exists(fname):\n",
    "    with open(fname,'rb') as f:\n",
    "        checkpoint = torch.load(fname,map_location = \"cuda\" if torch.cuda.is_available() else \"cpu\")\n",
    "        XY_net_list = checkpoint['XY_net_list']\n",
    "        dXY_list = checkpoint['dXY_list']\n",
    "        XY_net.load_state_dict(XY_net_list[-1])\n",
    "        print('results loaded from '+fname)\n",
    "else:\n",
    "    for j in range(50):\n",
    "        for i in range(200):\n",
    "            XY_optimizer.zero_grad()\n",
    "            batch_XY = resample(XY_t,batch_size=batch_size)\n",
    "            batch_XY_ref = torch.Tensor(np.concatenate((resample(X,batch_size=batch_size), \\\n",
    "                                                        resample(Y,batch_size=batch_size)),axis=1))\n",
    "            \n",
    "            fXY = XY_net(batch_XY)\n",
    "            efXY_ref = torch.exp(XY_net(batch_XY_ref))\n",
    "            batch_dXY = torch.mean(fXY) - torch.log(torch.mean(efXY_ref))\n",
    "            ma_ef = (1-ma_rate)*ma_ef + ma_rate*torch.mean(efXY_ref)\n",
    "            batch_loss_XY = -(torch.mean(fXY) - (1/ma_ef.mean()).detach()*torch.mean(efXY_ref))\n",
    "            batch_loss_XY.backward()\n",
    "            XY_optimizer.step()    \n",
    "            dXY_list = np.append(dXY_list, \\\n",
    "                                    (torch.mean(XY_net(XY_t)) \\\n",
    "                                     - torch.log(torch.mean(torch.exp(XY_net(XY_ref_t))))).cpu().item())\n",
    "            \n",
    "        XY_net_list = np.append(XY_net_list,copy.deepcopy(XY_net.state_dict()))\n",
    "\n",
    "        # To save intermediate works, change the condition to True\n",
    "        if True:\n",
    "            with open(str(j)+fname,'wb') as f:\n",
    "                dill.dump([XY_net_list,dXY_list],f)\n",
    "                print('results saved: '+str(j))"
   ]
  },
  {
   "cell_type": "markdown",
   "metadata": {},
   "source": [
    "To save new results to a db file using the following code, delete the existing db file."
   ]
  },
  {
   "cell_type": "code",
   "execution_count": 11,
   "metadata": {},
   "outputs": [
    {
     "name": "stdout",
     "output_type": "stream",
     "text": [
      "results saved to mix_gaussian_mine_full_batch_ma_rho6.pt\n"
     ]
    }
   ],
   "source": [
    "if not os.path.exists(fname):\n",
    "    with open(fname,'wb') as f:\n",
    "        torch.save({\n",
    "            'dXY_list' : dXY_list,\n",
    "            'XY_net_list' : XY_net_list\n",
    "        },f)\n",
    "        #dill.dump([XY_net_list,X_net_list,Y_net_list,dXY_list,dX_list,dY_list],f)\n",
    "        print('results saved to '+fname)"
   ]
  },
  {
   "cell_type": "markdown",
   "metadata": {},
   "source": [
    "## Analysis"
   ]
  },
  {
   "cell_type": "code",
   "execution_count": null,
   "metadata": {},
   "outputs": [
    {
     "data": {
      "text/plain": [
       "Text(0, 0.5, 'MI estimate')"
      ]
     },
     "execution_count": 12,
     "metadata": {},
     "output_type": "execute_result"
    },
    {
     "data": {
      "image/png": "[encoded data removed]",
      "text/plain": [
       "<Figure size 432x288 with 1 Axes>"
      ]
     },
     "metadata": {
      "needs_background": "light"
     },
     "output_type": "display_data"
    }
   ],
   "source": [
    "mi_list = dXY_list\n",
    "plt.plot(mi_list)\n",
    "plt.title(\"Plot of MI estimates against number iteractions\")\n",
    "plt.xlabel(\"number of iterations\")\n",
    "plt.ylabel(\"MI estimate\")"
   ]
  },
  {
   "cell_type": "code",
   "execution_count": null,
   "metadata": {},
   "outputs": [],
   "source": [
    "XY_net_ = copy.deepcopy(XY_net)"
   ]
  },
  {
   "cell_type": "code",
   "execution_count": null,
   "metadata": {},
   "outputs": [
    {
     "data": {
      "application/vnd.jupyter.widget-view+json": {
       "model_id": "7d5ba8b906b04b05bb9a0c1525e7e136",
       "version_major": 2,
       "version_minor": 0
      },
      "text/plain": [
       "interactive(children=(IntSlider(value=10000, description='t', max=10000, min=200, step=200), Output()), _dom_c…"
      ]
     },
     "metadata": {},
     "output_type": "display_data"
    }
   ],
   "source": [
    "T = mi_list.size # total number of iteractions\n",
    "dt = T // XY_net_list.shape[0] # period for each snapshot of the NN\n",
    "@interact(t=(dt,T,dt))\n",
    "def f(t=T):\n",
    "    plt.subplot(121)\n",
    "    plt.plot(mi_list)\n",
    "    plt.axvline(t)\n",
    "    plt.subplot(122)\n",
    "    XY_net_.load_state_dict(XY_net_list[(t // dt) - 1])\n",
    "    plot_net_2(XY_net_)\n",
    "    plt.show()"
   ]
  },
  {
   "cell_type": "code",
   "execution_count": null,
   "metadata": {},
   "outputs": [
    {
     "data": {
      "application/vnd.jupyter.widget-view+json": {
       "model_id": "1c81fbf81c7e468b89bb3283c4d8a9d0",
       "version_major": 2,
       "version_minor": 0
      },
      "text/plain": [
       "interactive(children=(IntSlider(value=10000, description='t', max=10000, min=100, step=100), Output()), _dom_c…"
      ]
     },
     "metadata": {},
     "output_type": "display_data"
    }
   ],
   "source": [
    "@interact(t=(100,T,100))\n",
    "def f(t=T):\n",
    "    w = 50\n",
    "    plt.plot(mi_list,color='yellow')\n",
    "    mi = mi_list[:t+1][-w:].mean()\n",
    "    plt.axhline(mi)\n",
    "    plt.axvline(t)\n",
    "    print(mi)"
   ]
  },
  {
   "cell_type": "code",
   "execution_count": null,
   "metadata": {},
   "outputs": [],
   "source": []
  }
 ],
 "metadata": {
  "kernelspec": {
   "display_name": "Python 3",
   "language": "python",
   "name": "python3"
  },
  "language_info": {
   "codemirror_mode": {
    "name": "ipython",
    "version": 3
   },
   "file_extension": ".py",
   "mimetype": "text/x-python",
   "name": "python",
   "nbconvert_exporter": "python",
   "pygments_lexer": "ipython3",
   "version": "3.7.1"
  }
 },
 "nbformat": 4,
 "nbformat_minor": 2
}
