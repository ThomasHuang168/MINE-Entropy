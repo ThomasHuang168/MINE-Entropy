{
 "cells": [
  {
   "cell_type": "markdown",
   "metadata": {},
   "source": [
    "# Import Python scripts"
   ]
  },
  {
   "cell_type": "code",
   "execution_count": 5,
   "metadata": {},
   "outputs": [],
   "source": [
    "import minee\n",
    "from minee import settings"
   ]
  },
  {
   "cell_type": "code",
   "execution_count": 6,
   "metadata": {},
   "outputs": [],
   "source": [
    "import ipywidgets as widgets\n",
    "from IPython.display import display, clear_output\n",
    "import matplotlib.pyplot as plt"
   ]
  },
  {
   "cell_type": "markdown",
   "metadata": {},
   "source": [
    "# Specify Path of MINE_net to load"
   ]
  },
  {
   "cell_type": "code",
   "execution_count": 7,
   "metadata": {},
   "outputs": [
    {
     "name": "stdout",
     "output_type": "stream",
     "text": [
      "/home/staff/hphuang/Projects/ccha23/MINE-Entropy\n"
     ]
    }
   ],
   "source": [
    "import os\n",
    "from os import path as p\n",
    "\n",
    "proj_path = p.dirname(p.abspath('MINE-Entropy'))\n",
    "print(proj_path)"
   ]
  },
  {
   "cell_type": "code",
   "execution_count": 8,
   "metadata": {},
   "outputs": [
    {
     "name": "stdout",
     "output_type": "stream",
     "text": [
      "/home/staff/hphuang/Projects/ccha23/MINE-Entropy/minee/experiments\n"
     ]
    }
   ],
   "source": [
    "exp_path = p.join(proj_path, \"minee/experiments\")\n",
    "print(exp_path)"
   ]
  },
  {
   "cell_type": "code",
   "execution_count": 9,
   "metadata": {
    "scrolled": true
   },
   "outputs": [],
   "source": [
    "batch_size=[int(128), int(2), int(8), int(32)]\n",
    "select_bat = widgets.Dropdown(options=batch_size, description=\"Select batch size: \")\n",
    "pop_size=[int(8192), int(2048), int(512)]\n",
    "select_pop = widgets.Dropdown(options=pop_size, description=\"Select population size: \")\n",
    "# sub_path = p.join(exp_path, \"pop={}_batch={}\".format(population_size, batch_size))\n",
    "# print(sub_path)"
   ]
  },
  {
   "cell_type": "code",
   "execution_count": 10,
   "metadata": {},
   "outputs": [],
   "source": [
    "datasets = settings.data.keys()\n",
    "datasets = list(datasets)\n",
    "datasets.append('Self-Defined')\n",
    "select_data = widgets.Dropdown(options=datasets, description=\"Select data: \")"
   ]
  },
  {
   "cell_type": "code",
   "execution_count": 11,
   "metadata": {},
   "outputs": [
    {
     "data": {
      "application/vnd.jupyter.widget-view+json": {
       "model_id": "1359194fa7174352aa9aa44e75e5c4eb",
       "version_major": 2,
       "version_minor": 0
      },
      "text/plain": [
       "Dropdown(description='Select data: ', options=('Gaussian', 'Self-Defined'), value='Gaussian')"
      ]
     },
     "metadata": {},
     "output_type": "display_data"
    }
   ],
   "source": [
    "display(select_data)"
   ]
  },
  {
   "cell_type": "code",
   "execution_count": null,
   "metadata": {},
   "outputs": [],
   "source": [
    "data_name=select_data.value\n",
    "vary_name=\"rho\"\n",
    "vary_val=0.8\n",
    "data_path = p.join(sub_path, \"{}_{}={}\".format(data_name, vary_name, vary_val))\n",
    "print(data_path)"
   ]
  },
  {
   "cell_type": "code",
   "execution_count": 3,
   "metadata": {},
   "outputs": [],
   "source": [
    "models = minee.settings.model.keys()\n",
    "models = list(models)\n",
    "select_model = widgets.Dropdown(options=models, description=\"Select model: \")"
   ]
  },
  {
   "cell_type": "markdown",
   "metadata": {},
   "source": [
    "# Specify model parameters"
   ]
  },
  {
   "cell_type": "markdown",
   "metadata": {},
   "source": [
    "Kraskov"
   ]
  },
  {
   "cell_type": "code",
   "execution_count": 6,
   "metadata": {},
   "outputs": [],
   "source": [
    "# Kraskov = settings.model['Kraskov']['model']\n",
    "# Kraskov.discrete_features = 'auto'\n",
    "# Kraskov.n_neighbors = 3\n",
    "# Kraskov.random_state = None"
   ]
  },
  {
   "cell_type": "markdown",
   "metadata": {},
   "source": [
    "MINE (direct)"
   ]
  },
  {
   "cell_type": "code",
   "execution_count": 7,
   "metadata": {},
   "outputs": [],
   "source": [
    "MINE_direct = settings.model['MINE_direct']['model']\n",
    "MINE_direct.log_freq=int(100)\n",
    "MINE_direct.avg_freq=int(10) \n",
    "MINE_direct.verbose=False\n",
    "MINE_direct.log=False\n",
    "MINE_direct.sample_mode='marginal'"
   ]
  },
  {
   "cell_type": "markdown",
   "metadata": {},
   "source": [
    "MINE via Entropy"
   ]
  },
  {
   "cell_type": "code",
   "execution_count": 8,
   "metadata": {},
   "outputs": [],
   "source": [
    "MINE_entropy = settings.model['MINE_entropy']['model']\n",
    "MINE_entropy.log_freq=int(100)\n",
    "MINE_entropy.avg_freq=int(10) \n",
    "MINE_entropy.verbose=False"
   ]
  },
  {
   "cell_type": "code",
   "execution_count": null,
   "metadata": {},
   "outputs": [],
   "source": []
  }
 ],
 "metadata": {
  "kernelspec": {
   "display_name": "Python 3",
   "language": "python",
   "name": "python3"
  },
  "language_info": {
   "codemirror_mode": {
    "name": "ipython",
    "version": 3
   },
   "file_extension": ".py",
   "mimetype": "text/x-python",
   "name": "python",
   "nbconvert_exporter": "python",
   "pygments_lexer": "ipython3",
   "version": "3.6.8"
  }
 },
 "nbformat": 4,
 "nbformat_minor": 2
}
