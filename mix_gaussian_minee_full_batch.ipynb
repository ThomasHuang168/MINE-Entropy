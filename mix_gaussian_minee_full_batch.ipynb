{
 "cells": [
  {
   "cell_type": "code",
   "execution_count": 1,
   "metadata": {},
   "outputs": [],
   "source": [
    "from notebook_util_minee import *\n",
    "%matplotlib inline"
   ]
  },
  {
   "cell_type": "code",
   "execution_count": 2,
   "metadata": {},
   "outputs": [],
   "source": [
    "from minee.data.mix_gaussian import MixedGaussian"
   ]
  },
  {
   "cell_type": "markdown",
   "metadata": {},
   "source": [
    "- It is better to use `sample_size` instead of `n_sample`.\n",
    "- Use the default `tensor` instead of `FloatTensor`. "
   ]
  },
  {
   "cell_type": "markdown",
   "metadata": {},
   "source": [
    "## Data"
   ]
  },
  {
   "cell_type": "code",
   "execution_count": 3,
   "metadata": {},
   "outputs": [],
   "source": [
    "np.random.seed(0)\n",
    "sample_size = 200\n",
    "rho1 = 0.9\n",
    "data = MixedGaussian(n_samples=sample_size,rho1=rho1).data\n",
    "data_t = torch.Tensor(data)"
   ]
  },
  {
   "cell_type": "markdown",
   "metadata": {},
   "source": [
    "Separate X data and Y data for the estimation. This should be a preprocessing done before instead of after feeding the data to the model."
   ]
  },
  {
   "cell_type": "code",
   "execution_count": 4,
   "metadata": {},
   "outputs": [],
   "source": [
    "X = data[:,[0]]\n",
    "Y = data[:,[1]]"
   ]
  },
  {
   "cell_type": "code",
   "execution_count": 5,
   "metadata": {},
   "outputs": [
    {
     "data": {
      "text/plain": [
       "<matplotlib.collections.PathCollection at 0x217130a6b70>"
      ]
     },
     "execution_count": 5,
     "metadata": {},
     "output_type": "execute_result"
    },
    {
     "data": {
      "image/png": "[encoded data removed]",
      "text/plain": [
       "<Figure size 432x288 with 1 Axes>"
      ]
     },
     "metadata": {
      "needs_background": "light"
     },
     "output_type": "display_data"
    }
   ],
   "source": [
    "plt.scatter(X,Y)"
   ]
  },
  {
   "cell_type": "markdown",
   "metadata": {},
   "source": [
    "Generate the reference samples by uniform sampling."
   ]
  },
  {
   "cell_type": "code",
   "execution_count": 7,
   "metadata": {},
   "outputs": [],
   "source": [
    "X_ref = uniform_sample(X.min(axis=0),X.max(axis=0),sample_size)\n",
    "Y_ref = uniform_sample(Y.min(axis=0),Y.max(axis=0),sample_size)"
   ]
  },
  {
   "cell_type": "code",
   "execution_count": 8,
   "metadata": {},
   "outputs": [
    {
     "data": {
      "text/plain": [
       "<matplotlib.legend.Legend at 0x217132137b8>"
      ]
     },
     "execution_count": 8,
     "metadata": {},
     "output_type": "execute_result"
    },
    {
     "data": {
      "image/png": "[encoded data removed]",
      "text/plain": [
       "<Figure size 432x288 with 1 Axes>"
      ]
     },
     "metadata": {
      "needs_background": "light"
     },
     "output_type": "display_data"
    }
   ],
   "source": [
    "plt.scatter(X,Y,label=\"data\",marker=\"+\",color=\"steelblue\")\n",
    "plt.scatter(X_ref,Y_ref,label=\"ref\",marker=\"_\",color=\"darkorange\")\n",
    "plt.xlabel('X')\n",
    "plt.ylabel('Y')\n",
    "plt.title('Plot of all data samples and reference samples')\n",
    "plt.legend()"
   ]
  },
  {
   "cell_type": "markdown",
   "metadata": {},
   "source": [
    "## MI estimation"
   ]
  },
  {
   "cell_type": "markdown",
   "metadata": {},
   "source": [
    "### Choice of parameters"
   ]
  },
  {
   "cell_type": "code",
   "execution_count": 50,
   "metadata": {},
   "outputs": [],
   "source": [
    "batch_size = int(sample_size*1)\n",
    "lr = 1e-3\n",
    "fname = 'mix_gaussian_minee_full_batch.db' # file to load/save the results"
   ]
  },
  {
   "cell_type": "markdown",
   "metadata": {},
   "source": [
    "### Initialization"
   ]
  },
  {
   "cell_type": "code",
   "execution_count": 11,
   "metadata": {},
   "outputs": [],
   "source": [
    "XY_t = torch.Tensor(np.concatenate((X,Y),axis=1))\n",
    "X_t = torch.Tensor(X)\n",
    "Y_t = torch.Tensor(Y)\n",
    "\n",
    "XY_ref_t = torch.Tensor(np.concatenate((X_ref,Y_ref),axis=1))\n",
    "X_ref_t = torch.Tensor(X_ref)\n",
    "Y_ref_t = torch.Tensor(Y_ref)\n",
    "\n",
    "XY_net = Net(input_size=X.shape[1]+Y.shape[1],hidden_size=100)\n",
    "X_net = Net(input_size=X.shape[1],hidden_size=100)\n",
    "Y_net = Net(input_size=Y.shape[1],hidden_size=100)\n",
    "XY_optimizer = optim.Adam(XY_net.parameters(),lr=lr)\n",
    "X_optimizer = optim.Adam(X_net.parameters(),lr=lr)\n",
    "Y_optimizer = optim.Adam(Y_net.parameters(),lr=lr)\n",
    "\n",
    "# For storing the results\n",
    "\n",
    "XY_net_list = []\n",
    "X_net_list = []\n",
    "Y_net_list = []\n",
    "\n",
    "dXY_list = []\n",
    "dX_list = []\n",
    "dY_list = []"
   ]
  },
  {
   "cell_type": "markdown",
   "metadata": {},
   "source": [
    "### Training\n",
    "Automatically load previous results from db file if exists"
   ]
  },
  {
   "cell_type": "code",
   "execution_count": 47,
   "metadata": {},
   "outputs": [],
   "source": [
    "if os.path.exists(fname):\n",
    "    with open(fname,'rb') as f:\n",
    "        XY_net_list,X_net_list,Y_net_list,dXY_list,dX_list,dY_list = dill.load(f)\n",
    "        XY_net.load_state_dict(XY_net_list[-1])\n",
    "        X_net.load_state_dict(X_net_list[-1])\n",
    "        Y_net.load_state_dict(Y_net_list[-1])\n",
    "        print('results loaded from '+fname)\n",
    "else:\n",
    "    for j in range(100):\n",
    "        for i in range(100):\n",
    "            XY_optimizer.zero_grad()\n",
    "            X_optimizer.zero_grad()\n",
    "            Y_optimizer.zero_grad()\n",
    "            batch_XY = resample(XY_t,batch_size=batch_size)\n",
    "            batch_X = resample(X_t, batch_size=batch_size)\n",
    "            batch_Y = resample(Y_t,batch_size=batch_size)\n",
    "            batch_XY_ref = torch.Tensor(np.concatenate((uniform_sample(X.min(axis=0),X.max(axis=0),batch_size), \\\n",
    "                                                        uniform_sample(Y.min(axis=0),Y.max(axis=0),batch_size)),axis=1))\n",
    "            batch_X_ref = batch_XY_ref[:,0:X.shape[1]]\n",
    "            batch_Y_ref = batch_XY_ref[:,-Y.shape[1]:]\n",
    "            \n",
    "            fXY = XY_net(batch_XY)\n",
    "            efXY_ref = torch.exp(XY_net(batch_XY_ref))\n",
    "            batch_dXY = torch.mean(fXY) - torch.log(torch.mean(efXY_ref))\n",
    "            batch_loss_XY = -batch_dXY\n",
    "            batch_loss_XY.backward()\n",
    "            XY_optimizer.step()    \n",
    "            dXY_list = np.append(dXY_list, \\\n",
    "                                    (torch.mean(XY_net(XY_t)) \\\n",
    "                                     - torch.log(torch.mean(torch.exp(XY_net(XY_ref_t))))).cpu().item())\n",
    "\n",
    "            fX = X_net(batch_X)\n",
    "            efX_ref = torch.exp(X_net(batch_X_ref))\n",
    "            batch_dX = torch.mean(fX) - torch.log(torch.mean(efX_ref))\n",
    "            batch_loss_X = -batch_dX\n",
    "            batch_loss_X.backward()\n",
    "            X_optimizer.step()    \n",
    "            dX_list = np.append(dX_list, \\\n",
    "                                    (torch.mean(X_net(X_t)) \\\n",
    "                                     - torch.log(torch.mean(torch.exp(X_net(X_ref_t))))).cpu().item())\n",
    "            \n",
    "            fY = Y_net(batch_Y)\n",
    "            efY_ref = torch.exp(Y_net(batch_Y_ref))\n",
    "            batch_dY = torch.mean(fY) - torch.log(torch.mean(efY_ref))\n",
    "            batch_loss_Y = -batch_dY\n",
    "            batch_loss_Y.backward()\n",
    "            Y_optimizer.step()    \n",
    "            dY_list = np.append(dY_list, \\\n",
    "                                    (torch.mean(Y_net(Y_t)) \\\n",
    "                                     - torch.log(torch.mean(torch.exp(Y_net(Y_ref_t))))).cpu().item())            \n",
    "            \n",
    "        XY_net_list = np.append(XY_net_list,copy.deepcopy(XY_net.state_dict()))\n",
    "        X_net_list = np.append(X_net_list,copy.deepcopy(X_net.state_dict()))\n",
    "        Y_net_list = np.append(Y_net_list,copy.deepcopy(Y_net.state_dict()))\n",
    "\n",
    "        # To save intermediate works, change the condition to True\n",
    "        if False:\n",
    "            with open(str(j)+fname,'wb') as f:\n",
    "                dill.dump([XY_net_list,X_net_list,Y_net_list,dX_list,dXY_list,dY_list],f)\n",
    "                print('results saved: '+str(j))"
   ]
  },
  {
   "cell_type": "markdown",
   "metadata": {},
   "source": [
    "To save new results to a db file using the following code, delete the existing db file."
   ]
  },
  {
   "cell_type": "code",
   "execution_count": 55,
   "metadata": {},
   "outputs": [
    {
     "name": "stdout",
     "output_type": "stream",
     "text": [
      "results saved to mix_gaussian_minee_full_batch.db\n"
     ]
    }
   ],
   "source": [
    "if not os.path.exists(fname):\n",
    "    with open(fname,'wb') as f:\n",
    "        dill.dump([XY_net_list,X_net_list,Y_net_list,dXY_list,dX_list,dY_list],f)\n",
    "        print('results saved to '+fname)"
   ]
  },
  {
   "cell_type": "markdown",
   "metadata": {},
   "source": [
    "## Analysis"
   ]
  },
  {
   "cell_type": "code",
   "execution_count": 51,
   "metadata": {},
   "outputs": [
    {
     "data": {
      "text/plain": [
       "Text(0, 0.5, 'MI estimate')"
      ]
     },
     "execution_count": 51,
     "metadata": {},
     "output_type": "execute_result"
    },
    {
     "data": {
      "image/png": "[encoded data removed]",
      "text/plain": [
       "<Figure size 432x288 with 1 Axes>"
      ]
     },
     "metadata": {
      "needs_background": "light"
     },
     "output_type": "display_data"
    }
   ],
   "source": [
    "mi_list = dXY_list-dX_list-dY_list\n",
    "plt.plot(mi_list)\n",
    "plt.title(\"Plot of MI estimates against number iteractions\")\n",
    "plt.xlabel(\"number of iterations\")\n",
    "plt.ylabel(\"MI estimate\")"
   ]
  },
  {
   "cell_type": "code",
   "execution_count": 52,
   "metadata": {},
   "outputs": [
    {
     "data": {
      "text/plain": [
       "<matplotlib.legend.Legend at 0x2171c38af60>"
      ]
     },
     "execution_count": 52,
     "metadata": {},
     "output_type": "execute_result"
    },
    {
     "data": {
      "image/png": "[encoded data removed]",
      "text/plain": [
       "<Figure size 432x288 with 1 Axes>"
      ]
     },
     "metadata": {
      "needs_background": "light"
     },
     "output_type": "display_data"
    }
   ],
   "source": [
    "plt.plot(dXY_list,label=\"XY\")\n",
    "plt.plot(dX_list,label=\"X\")\n",
    "plt.plot(dY_list,label=\"Y\")\n",
    "plt.title(\"Plots of divergence estimates\")\n",
    "plt.xlabel(\"number of iterations\")\n",
    "plt.ylabel(\"divergence estimate\")\n",
    "plt.legend()"
   ]
  },
  {
   "cell_type": "code",
   "execution_count": 56,
   "metadata": {},
   "outputs": [],
   "source": [
    "XY_net_ = copy.deepcopy(XY_net)\n",
    "X_net_ = copy.deepcopy(X_net)\n",
    "Y_net_ = copy.deepcopy(Y_net)"
   ]
  },
  {
   "cell_type": "code",
   "execution_count": 57,
   "metadata": {},
   "outputs": [
    {
     "data": {
      "application/vnd.jupyter.widget-view+json": {
       "model_id": "da08cf943aba40f9a64e7487d4b2f8cc",
       "version_major": 2,
       "version_minor": 0
      },
      "text/plain": [
       "interactive(children=(IntSlider(value=10000, description='t', max=10000, min=100, step=100), Output()), _dom_c…"
      ]
     },
     "metadata": {},
     "output_type": "display_data"
    }
   ],
   "source": [
    "T = mi_list.size # total number of iteractions\n",
    "dt = T // XY_net_list.shape[0] # period for each snapshot of the NN\n",
    "@interact(t=(dt,T,dt))\n",
    "def f(t=T):\n",
    "    plt.subplot(221)\n",
    "    plt.plot(mi_list)\n",
    "    plt.axvline(t)\n",
    "    plt.subplot(222)\n",
    "    XY_net_.load_state_dict(XY_net_list[(t // dt) - 1])\n",
    "    plot_net_2(XY_net_)\n",
    "    plt.subplot(223)\n",
    "    X_net_.load_state_dict(X_net_list[(t // dt) - 1])\n",
    "    plot_net_1(X_net_)\n",
    "    plt.subplot(224)\n",
    "    Y_net_.load_state_dict(Y_net_list[(t // dt) - 1])\n",
    "    plot_net_1(Y_net_)\n",
    "    plt.plot()\n",
    "    plt.show()"
   ]
  },
  {
   "cell_type": "code",
   "execution_count": 60,
   "metadata": {},
   "outputs": [
    {
     "data": {
      "application/vnd.jupyter.widget-view+json": {
       "model_id": "5c83c05e92124c92b8722217389b6fab",
       "version_major": 2,
       "version_minor": 0
      },
      "text/plain": [
       "interactive(children=(IntSlider(value=10000, description='t', max=10000, min=100, step=100), Output()), _dom_c…"
      ]
     },
     "metadata": {},
     "output_type": "display_data"
    }
   ],
   "source": [
    "@interact(t=(100,T,100))\n",
    "def f(t=T):\n",
    "    w = 50\n",
    "    plt.plot(mi_list,color='yellow')\n",
    "    mi = mi_list[:t+1][-w:].mean()\n",
    "    plt.axhline(mi)\n",
    "    plt.axvline(t)\n",
    "    print(mi)"
   ]
  },
  {
   "cell_type": "code",
   "execution_count": null,
   "metadata": {},
   "outputs": [],
   "source": []
  }
 ],
 "metadata": {
  "kernelspec": {
   "display_name": "Python 3",
   "language": "python",
   "name": "python3"
  },
  "language_info": {
   "codemirror_mode": {
    "name": "ipython",
    "version": 3
   },
   "file_extension": ".py",
   "mimetype": "text/x-python",
   "name": "python",
   "nbconvert_exporter": "python",
   "pygments_lexer": "ipython3",
   "version": "3.7.1"
  }
 },
 "nbformat": 4,
 "nbformat_minor": 2
}
